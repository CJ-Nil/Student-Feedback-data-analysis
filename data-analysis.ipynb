{
 "cells": [
  {
   "cell_type": "markdown",
   "metadata": {},
   "source": [
    "# Online Education Student Feedback Analysis\n"
   ]
  },
  {
   "cell_type": "code",
   "execution_count": 1,
   "metadata": {},
   "outputs": [],
   "source": [
    "%matplotlib inline\n",
    "import warnings\n",
    "warnings.filterwarnings(\"ignore\")\n",
    "\n",
    "\n",
    "import sqlite3\n",
    "import pandas as pd\n",
    "import numpy as np\n",
    "import nltk\n",
    "import string\n",
    "import matplotlib.pyplot as plt\n",
    "import seaborn as sns\n",
    "from sklearn.feature_extraction.text import TfidfTransformer\n",
    "from sklearn.feature_extraction.text import TfidfVectorizer\n",
    "\n",
    "from sklearn.feature_extraction.text import CountVectorizer\n",
    "from sklearn.metrics import confusion_matrix\n",
    "from sklearn import metrics\n",
    "from sklearn.metrics import roc_curve, auc\n",
    "from nltk.stem.porter import PorterStemmer\n",
    "\n",
    "import re\n",
    "# Tutorial about Python regular expressions: https://pymotw.com/2/re/\n",
    "import string\n",
    "from nltk.corpus import stopwords\n",
    "from nltk.stem import PorterStemmer\n",
    "from nltk.stem.wordnet import WordNetLemmatizer\n",
    "\n",
    "from gensim.models import Word2Vec\n",
    "from gensim.models import KeyedVectors\n",
    "import pickle\n",
    "\n",
    "from tqdm import tqdm\n",
    "import os"
   ]
  },
  {
   "cell_type": "markdown",
   "metadata": {},
   "source": [
    "## Loading data"
   ]
  },
  {
   "cell_type": "code",
   "execution_count": 3,
   "metadata": {},
   "outputs": [
    {
     "data": {
      "text/html": [
       "<div>\n",
       "<style scoped>\n",
       "    .dataframe tbody tr th:only-of-type {\n",
       "        vertical-align: middle;\n",
       "    }\n",
       "\n",
       "    .dataframe tbody tr th {\n",
       "        vertical-align: top;\n",
       "    }\n",
       "\n",
       "    .dataframe thead th {\n",
       "        text-align: right;\n",
       "    }\n",
       "</style>\n",
       "<table border=\"1\" class=\"dataframe\">\n",
       "  <thead>\n",
       "    <tr style=\"text-align: right;\">\n",
       "      <th></th>\n",
       "      <th>Roll Number</th>\n",
       "      <th>Gender</th>\n",
       "      <th>Location</th>\n",
       "      <th>What are the usual causes of stress in your daily online class</th>\n",
       "      <th>What are the usual behavioral effects of stress you've noticed at yourself</th>\n",
       "      <th>What are the usual PSYCHOLOGICAL or EMOTIONAL effects of stress you've noticed at yourself</th>\n",
       "      <th>What are the usual PHYSICAL effects of stress you've noticed at yourself</th>\n",
       "      <th>What are the usual COGNITIVE effects of stress you've noticed at yourself</th>\n",
       "      <th>What are the usual SOCIAL effects of stress you've noticed at yourself</th>\n",
       "      <th>What are your personal methods to relieve stress</th>\n",
       "      <th>How stressed do you feel on a daily basis during the academic year</th>\n",
       "      <th>Found that you could not cope with all the things you had to do</th>\n",
       "      <th>When do you feel mostly stressed</th>\n",
       "      <th>How effective has remote learning been for you</th>\n",
       "      <th>How well could you manage time while learning remotely</th>\n",
       "      <th>Do you enjoy learning remotely</th>\n",
       "    </tr>\n",
       "  </thead>\n",
       "  <tbody>\n",
       "    <tr>\n",
       "      <td>0</td>\n",
       "      <td>19234</td>\n",
       "      <td>Female</td>\n",
       "      <td>Urban</td>\n",
       "      <td>Environmental Background Noise</td>\n",
       "      <td>Change in sleep patterns</td>\n",
       "      <td>Feeling isolated, lost, lonely or abandoned, m...</td>\n",
       "      <td>Eye problem due to online class</td>\n",
       "      <td>No cognitive effect</td>\n",
       "      <td>Difficulty engaging in mutual problem solving</td>\n",
       "      <td>Talking with someone</td>\n",
       "      <td>Less Stressed</td>\n",
       "      <td>Almost Never</td>\n",
       "      <td>Assignment submision deadline</td>\n",
       "      <td>Moderately effective</td>\n",
       "      <td>Average</td>\n",
       "      <td>Yes, but I would like to change a few things</td>\n",
       "    </tr>\n",
       "    <tr>\n",
       "      <td>1</td>\n",
       "      <td>180330129</td>\n",
       "      <td>Female</td>\n",
       "      <td>Urban</td>\n",
       "      <td>Environmental Background Noise</td>\n",
       "      <td>Difficulty communicating</td>\n",
       "      <td>Feeling isolated, lost, lonely or abandoned, m...</td>\n",
       "      <td>Headaches</td>\n",
       "      <td>Difficulty Concentrating</td>\n",
       "      <td>Difficulty listening</td>\n",
       "      <td>Social Media</td>\n",
       "      <td>highly stressed</td>\n",
       "      <td>Never</td>\n",
       "      <td>Online class during evening time</td>\n",
       "      <td>Not at all effective</td>\n",
       "      <td>Very Bad</td>\n",
       "      <td>Never</td>\n",
       "    </tr>\n",
       "    <tr>\n",
       "      <td>2</td>\n",
       "      <td>190330210</td>\n",
       "      <td>Male</td>\n",
       "      <td>Urban</td>\n",
       "      <td>Feeling no stress</td>\n",
       "      <td>Inability to rest, relax or let down</td>\n",
       "      <td>Feeling overwhelmed, helpless or hopeless</td>\n",
       "      <td>Headaches</td>\n",
       "      <td>No cognitive effect</td>\n",
       "      <td>Withdrawing or isolating from people</td>\n",
       "      <td>Sports / Exercise</td>\n",
       "      <td>Less Stressed</td>\n",
       "      <td>Almost Never</td>\n",
       "      <td>Assignment submision deadline</td>\n",
       "      <td>Not at all effective</td>\n",
       "      <td>Good</td>\n",
       "      <td>Yes, but I would like to change a few things</td>\n",
       "    </tr>\n",
       "    <tr>\n",
       "      <td>3</td>\n",
       "      <td>2010080002</td>\n",
       "      <td>Male</td>\n",
       "      <td>Urban</td>\n",
       "      <td>Health Issue</td>\n",
       "      <td>Decreased efficiency and effectiveness</td>\n",
       "      <td>Feeling overwhelmed, helpless or hopeless</td>\n",
       "      <td>Eye problem due to online class</td>\n",
       "      <td>Difficulty calculating, setting priorities or ...</td>\n",
       "      <td>Difficulty listening</td>\n",
       "      <td>Talking with someone</td>\n",
       "      <td>Average Stressed</td>\n",
       "      <td>Sometimes</td>\n",
       "      <td>Online class during evening time</td>\n",
       "      <td>Moderately effective</td>\n",
       "      <td>Average</td>\n",
       "      <td>No, there are quite a few challenges</td>\n",
       "    </tr>\n",
       "    <tr>\n",
       "      <td>4</td>\n",
       "      <td>2010030380</td>\n",
       "      <td>Male</td>\n",
       "      <td>Urban</td>\n",
       "      <td>Family Issue</td>\n",
       "      <td>Change in sleep patterns</td>\n",
       "      <td>Feeling overwhelmed, helpless or hopeless</td>\n",
       "      <td>Digestion Problem, Upset stomach, nausea, diar...</td>\n",
       "      <td>Difficulty calculating, setting priorities or ...</td>\n",
       "      <td>Difficulty engaging in mutual problem solving</td>\n",
       "      <td>Sports / Exercise</td>\n",
       "      <td>highly stressed</td>\n",
       "      <td>Fairly Often</td>\n",
       "      <td>Assignment submision deadline</td>\n",
       "      <td>Slightly effective</td>\n",
       "      <td>Good</td>\n",
       "      <td>No, there are quite a few challenges</td>\n",
       "    </tr>\n",
       "  </tbody>\n",
       "</table>\n",
       "</div>"
      ],
      "text/plain": [
       "  Roll Number  Gender Location  \\\n",
       "0       19234  Female    Urban   \n",
       "1   180330129  Female    Urban   \n",
       "2   190330210    Male    Urban   \n",
       "3  2010080002    Male    Urban   \n",
       "4  2010030380    Male    Urban   \n",
       "\n",
       "  What are the usual causes of stress in your daily online class  \\\n",
       "0                     Environmental Background Noise               \n",
       "1                     Environmental Background Noise               \n",
       "2                                  Feeling no stress               \n",
       "3                                       Health Issue               \n",
       "4                                       Family Issue               \n",
       "\n",
       "  What are the usual behavioral effects of stress you've noticed at yourself  \\\n",
       "0                           Change in sleep patterns                           \n",
       "1                           Difficulty communicating                           \n",
       "2               Inability to rest, relax or let down                           \n",
       "3             Decreased efficiency and effectiveness                           \n",
       "4                           Change in sleep patterns                           \n",
       "\n",
       "  What are the usual PSYCHOLOGICAL or EMOTIONAL effects of stress you've noticed at yourself  \\\n",
       "0  Feeling isolated, lost, lonely or abandoned, m...                                           \n",
       "1  Feeling isolated, lost, lonely or abandoned, m...                                           \n",
       "2          Feeling overwhelmed, helpless or hopeless                                           \n",
       "3          Feeling overwhelmed, helpless or hopeless                                           \n",
       "4          Feeling overwhelmed, helpless or hopeless                                           \n",
       "\n",
       "  What are the usual PHYSICAL effects of stress you've noticed at yourself  \\\n",
       "0                    Eye problem due to online class                         \n",
       "1                                          Headaches                         \n",
       "2                                          Headaches                         \n",
       "3                    Eye problem due to online class                         \n",
       "4  Digestion Problem, Upset stomach, nausea, diar...                         \n",
       "\n",
       "  What are the usual COGNITIVE effects of stress you've noticed at yourself  \\\n",
       "0                                No cognitive effect                          \n",
       "1                           Difficulty Concentrating                          \n",
       "2                                No cognitive effect                          \n",
       "3  Difficulty calculating, setting priorities or ...                          \n",
       "4  Difficulty calculating, setting priorities or ...                          \n",
       "\n",
       "  What are the usual SOCIAL effects of stress you've noticed at yourself  \\\n",
       "0      Difficulty engaging in mutual problem solving                       \n",
       "1                               Difficulty listening                       \n",
       "2               Withdrawing or isolating from people                       \n",
       "3                               Difficulty listening                       \n",
       "4      Difficulty engaging in mutual problem solving                       \n",
       "\n",
       "  What are your personal methods to relieve stress  \\\n",
       "0                             Talking with someone   \n",
       "1                                     Social Media   \n",
       "2                                Sports / Exercise   \n",
       "3                             Talking with someone   \n",
       "4                                Sports / Exercise   \n",
       "\n",
       "  How stressed do you feel on a daily basis during the academic year  \\\n",
       "0                                      Less Stressed                   \n",
       "1                                    highly stressed                   \n",
       "2                                      Less Stressed                   \n",
       "3                                   Average Stressed                   \n",
       "4                                    highly stressed                   \n",
       "\n",
       "  Found that you could not cope with all the things you had to do  \\\n",
       "0                                       Almost Never                \n",
       "1                                              Never                \n",
       "2                                       Almost Never                \n",
       "3                                          Sometimes                \n",
       "4                                       Fairly Often                \n",
       "\n",
       "   When do you feel mostly stressed  \\\n",
       "0     Assignment submision deadline   \n",
       "1  Online class during evening time   \n",
       "2     Assignment submision deadline   \n",
       "3  Online class during evening time   \n",
       "4     Assignment submision deadline   \n",
       "\n",
       "  How effective has remote learning been for you  \\\n",
       "0                           Moderately effective   \n",
       "1                           Not at all effective   \n",
       "2                           Not at all effective   \n",
       "3                           Moderately effective   \n",
       "4                             Slightly effective   \n",
       "\n",
       "  How well could you manage time while learning remotely  \\\n",
       "0                                            Average       \n",
       "1                                           Very Bad       \n",
       "2                                               Good       \n",
       "3                                            Average       \n",
       "4                                               Good       \n",
       "\n",
       "                 Do you enjoy learning remotely  \n",
       "0  Yes, but I would like to change a few things  \n",
       "1                                         Never  \n",
       "2  Yes, but I would like to change a few things  \n",
       "3          No, there are quite a few challenges  \n",
       "4          No, there are quite a few challenges  "
      ]
     },
     "execution_count": 3,
     "metadata": {},
     "output_type": "execute_result"
    }
   ],
   "source": [
    "data = pd.read_csv('data.csv',names=[\"Roll Number\",\"Gender\",\"Location\",\"What are the usual causes of stress in your daily online class\",\"What are the usual behavioral effects of stress you've noticed at yourself\",\"What are the usual PSYCHOLOGICAL or EMOTIONAL effects of stress you've noticed at yourself\",\"What are the usual PHYSICAL effects of stress you've noticed at yourself\",\"What are the usual COGNITIVE effects of stress you've noticed at yourself\",\"What are the usual SOCIAL effects of stress you've noticed at yourself\",\"What are your personal methods to relieve stress\",\"How stressed do you feel on a daily basis during the academic year\",\"Found that you could not cope with all the things you had to do\",\"When do you feel mostly stressed\",\"How effective has remote learning been for you\",\"How well could you manage time while learning remotely\",\"Do you enjoy learning remotely\"])\n",
    "data.head()"
   ]
  },
  {
   "cell_type": "code",
   "execution_count": 4,
   "metadata": {},
   "outputs": [
    {
     "data": {
      "text/plain": [
       "(499, 16)"
      ]
     },
     "execution_count": 4,
     "metadata": {},
     "output_type": "execute_result"
    }
   ],
   "source": [
    "data.shape"
   ]
  },
  {
   "cell_type": "code",
   "execution_count": 7,
   "metadata": {},
   "outputs": [
    {
     "data": {
      "text/plain": [
       "Male      343\n",
       "Female    156\n",
       "Name: Gender, dtype: int64"
      ]
     },
     "execution_count": 7,
     "metadata": {},
     "output_type": "execute_result"
    }
   ],
   "source": [
    "data['Gender'].value_counts()"
   ]
  },
  {
   "cell_type": "code",
   "execution_count": 5,
   "metadata": {},
   "outputs": [
    {
     "data": {
      "text/plain": [
       "Urban    411\n",
       "Rural     88\n",
       "Name: Location, dtype: int64"
      ]
     },
     "execution_count": 5,
     "metadata": {},
     "output_type": "execute_result"
    }
   ],
   "source": [
    "data['Location'].value_counts()"
   ]
  },
  {
   "cell_type": "code",
   "execution_count": 8,
   "metadata": {},
   "outputs": [],
   "source": [
    "def status(d):\n",
    "    print(\"Description\")\n",
    "    print(\"#\"*50)\n",
    "    print(d.describe())\n",
    "    print(\"#\"*100)\n",
    "    print(\"Value Counts\")\n",
    "    print(\"#\"*50)\n",
    "    lt = d.value_counts()\n",
    "    print(lt)\n",
    "    lt.plot(kind='pie')"
   ]
  },
  {
   "cell_type": "markdown",
   "metadata": {},
   "source": [
    "# Statistics:\n",
    "## What are the usual causes of stress in your daily online class?"
   ]
  },
  {
   "cell_type": "code",
   "execution_count": 9,
   "metadata": {},
   "outputs": [
    {
     "name": "stdout",
     "output_type": "stream",
     "text": [
      "Description\n",
      "##################################################\n",
      "count                   499\n",
      "unique                    4\n",
      "top       Feeling no stress\n",
      "freq                    204\n",
      "Name: What are the usual causes of stress in your daily online class, dtype: object\n",
      "####################################################################################################\n",
      "Value Counts\n",
      "##################################################\n",
      "Feeling no stress                 204\n",
      "Health Issue                      139\n",
      "Environmental Background Noise    114\n",
      "Family Issue                       42\n",
      "Name: What are the usual causes of stress in your daily online class, dtype: int64\n"
     ]
    },
    {
     "data": {
      "image/png": "[encoded data removed]",
      "text/plain": [
       "<Figure size 432x288 with 1 Axes>"
      ]
     },
     "metadata": {},
     "output_type": "display_data"
    }
   ],
   "source": [
    "status(data['What are the usual causes of stress in your daily online class'])"
   ]
  },
  {
   "cell_type": "markdown",
   "metadata": {},
   "source": [
    "## What are the usual behavioral effects of stress you've noticed at yourself?"
   ]
  },
  {
   "cell_type": "code",
   "execution_count": 10,
   "metadata": {},
   "outputs": [
    {
     "name": "stdout",
     "output_type": "stream",
     "text": [
      "Description\n",
      "##################################################\n",
      "count                                      499\n",
      "unique                                       6\n",
      "top       Inability to rest, relax or let down\n",
      "freq                                       172\n",
      "Name: What are the usual behavioral effects of stress you've noticed at yourself, dtype: object\n",
      "####################################################################################################\n",
      "Value Counts\n",
      "##################################################\n",
      "Inability to rest, relax or let down      172\n",
      "No changes in behaviour                   101\n",
      "Decreased efficiency and effectiveness     90\n",
      "Change in sleep patterns                   54\n",
      "Change in activity levels                  42\n",
      "Difficulty communicating                   40\n",
      "Name: What are the usual behavioral effects of stress you've noticed at yourself, dtype: int64\n"
     ]
    },
    {
     "data": {
      "image/png": "[encoded data removed]",
      "text/plain": [
       "<Figure size 432x288 with 1 Axes>"
      ]
     },
     "metadata": {},
     "output_type": "display_data"
    }
   ],
   "source": [
    "status(data[\"What are the usual behavioral effects of stress you've noticed at yourself\"])"
   ]
  },
  {
   "cell_type": "markdown",
   "metadata": {},
   "source": [
    "## What are the usual PSYCHOLOGICAL or EMOTIONAL effects of stress you've noticed at yourself?"
   ]
  },
  {
   "cell_type": "code",
   "execution_count": 11,
   "metadata": {},
   "outputs": [
    {
     "name": "stdout",
     "output_type": "stream",
     "text": [
      "Description\n",
      "##################################################\n",
      "count                                       499\n",
      "unique                                        5\n",
      "top       No psychological and emotional effect\n",
      "freq                                        202\n",
      "Name: What are the usual PSYCHOLOGICAL or EMOTIONAL effects of stress you've noticed at yourself, dtype: object\n",
      "####################################################################################################\n",
      "Value Counts\n",
      "##################################################\n",
      "No psychological and emotional effect                           202\n",
      "Feeling overwhelmed, helpless or hopeless                       100\n",
      "Feeling isolated, lost, lonely or abandoned, missing friends     97\n",
      "Sadness, moodiness, grief or depression                          71\n",
      "Anxlety or fear                                                  29\n",
      "Name: What are the usual PSYCHOLOGICAL or EMOTIONAL effects of stress you've noticed at yourself, dtype: int64\n"
     ]
    },
    {
     "data": {
      "image/png": "[encoded data removed]",
      "text/plain": [
       "<Figure size 432x288 with 1 Axes>"
      ]
     },
     "metadata": {},
     "output_type": "display_data"
    }
   ],
   "source": [
    "status(data[\"What are the usual PSYCHOLOGICAL or EMOTIONAL effects of stress you've noticed at yourself\"])"
   ]
  },
  {
   "cell_type": "markdown",
   "metadata": {},
   "source": [
    "## What are the usual PHYSICAL effects of stress you've noticed at yourself?"
   ]
  },
  {
   "cell_type": "code",
   "execution_count": 12,
   "metadata": {},
   "outputs": [
    {
     "name": "stdout",
     "output_type": "stream",
     "text": [
      "Description\n",
      "##################################################\n",
      "count                                 499\n",
      "unique                                  5\n",
      "top       Eye problem due to online class\n",
      "freq                                  167\n",
      "Name: What are the usual PHYSICAL effects of stress you've noticed at yourself, dtype: object\n",
      "####################################################################################################\n",
      "Value Counts\n",
      "##################################################\n",
      "Eye problem due to online class                       167\n",
      "Headaches                                             158\n",
      "No physical effect                                    148\n",
      "Tremors or muscle twitching                            15\n",
      "Digestion Problem, Upset stomach, nausea, diarrhea     11\n",
      "Name: What are the usual PHYSICAL effects of stress you've noticed at yourself, dtype: int64\n"
     ]
    },
    {
     "data": {
      "image/png": "[encoded data removed]",
      "text/plain": [
       "<Figure size 432x288 with 1 Axes>"
      ]
     },
     "metadata": {},
     "output_type": "display_data"
    }
   ],
   "source": [
    "status(data[\"What are the usual PHYSICAL effects of stress you've noticed at yourself\"])"
   ]
  },
  {
   "cell_type": "markdown",
   "metadata": {},
   "source": [
    "## What are the usual COGNITIVE effects of stress you've noticed at yourself?"
   ]
  },
  {
   "cell_type": "code",
   "execution_count": 13,
   "metadata": {},
   "outputs": [
    {
     "name": "stdout",
     "output_type": "stream",
     "text": [
      "Description\n",
      "##################################################\n",
      "count                     499\n",
      "unique                      5\n",
      "top       No cognitive effect\n",
      "freq                      146\n",
      "Name: What are the usual COGNITIVE effects of stress you've noticed at yourself, dtype: object\n",
      "####################################################################################################\n",
      "Value Counts\n",
      "##################################################\n",
      "No cognitive effect                                                                    146\n",
      "Difficulty Concentrating                                                               137\n",
      "Difficulty calculating, setting priorities or making decisions due to huge workload    133\n",
      "Slowness in thinking, analyzing, or comprehending                                       52\n",
      "Confusion                                                                               31\n",
      "Name: What are the usual COGNITIVE effects of stress you've noticed at yourself, dtype: int64\n"
     ]
    },
    {
     "data": {
      "image/png": "[encoded data removed]",
      "text/plain": [
       "<Figure size 432x288 with 1 Axes>"
      ]
     },
     "metadata": {},
     "output_type": "display_data"
    }
   ],
   "source": [
    "status(data[\"What are the usual COGNITIVE effects of stress you've noticed at yourself\"])"
   ]
  },
  {
   "cell_type": "markdown",
   "metadata": {},
   "source": [
    "## What are the usual SOCIAL effects of stress you've noticed at yourself?"
   ]
  },
  {
   "cell_type": "code",
   "execution_count": 13,
   "metadata": {},
   "outputs": [
    {
     "name": "stdout",
     "output_type": "stream",
     "text": [
      "Description\n",
      "##################################################\n",
      "count                  499\n",
      "unique                   5\n",
      "top       No social effect\n",
      "freq                   180\n",
      "Name: What are the usual SOCIAL effects of stress you've noticed at yourself, dtype: object\n",
      "####################################################################################################\n",
      "Value Counts\n",
      "##################################################\n",
      "No social effect                                 180\n",
      "Difficulty listening                              93\n",
      "Difficulty engaging in mutual problem solving     90\n",
      "Withdrawing or isolating from people              85\n",
      "Difficulty sharing ideas                          51\n",
      "Name: What are the usual SOCIAL effects of stress you've noticed at yourself, dtype: int64\n"
     ]
    },
    {
     "data": {
      "image/png": "[encoded data removed]",
      "text/plain": [
       "<Figure size 432x288 with 1 Axes>"
      ]
     },
     "metadata": {},
     "output_type": "display_data"
    }
   ],
   "source": [
    "status(data[\"What are the usual SOCIAL effects of stress you've noticed at yourself\"])"
   ]
  },
  {
   "cell_type": "markdown",
   "metadata": {},
   "source": [
    "## What are your personal methods to relieve stress?"
   ]
  },
  {
   "cell_type": "code",
   "execution_count": 14,
   "metadata": {},
   "outputs": [
    {
     "name": "stdout",
     "output_type": "stream",
     "text": [
      "Description\n",
      "##################################################\n",
      "count                   488\n",
      "unique                    6\n",
      "top       Sports / Exercise\n",
      "freq                    167\n",
      "Name: What are your personal methods to relieve stress, dtype: object\n",
      "####################################################################################################\n",
      "Value Counts\n",
      "##################################################\n",
      "Sports / Exercise       167\n",
      "Sleeping                143\n",
      "Talking with someone     91\n",
      "Computer Games           43\n",
      "Social Media             30\n",
      "Eating                   14\n",
      "Name: What are your personal methods to relieve stress, dtype: int64\n"
     ]
    },
    {
     "data": {
      "image/png": "[encoded data removed]",
      "text/plain": [
       "<Figure size 432x288 with 1 Axes>"
      ]
     },
     "metadata": {},
     "output_type": "display_data"
    }
   ],
   "source": [
    "status(data[\"What are your personal methods to relieve stress\"])"
   ]
  },
  {
   "cell_type": "markdown",
   "metadata": {},
   "source": [
    "## How stressed do you feel on a daily basis during the academic year?"
   ]
  },
  {
   "cell_type": "code",
   "execution_count": 15,
   "metadata": {},
   "outputs": [
    {
     "name": "stdout",
     "output_type": "stream",
     "text": [
      "Description\n",
      "##################################################\n",
      "count                  499\n",
      "unique                   4\n",
      "top       Average Stressed\n",
      "freq                   195\n",
      "Name: How stressed do you feel on a daily basis during the academic year, dtype: object\n",
      "####################################################################################################\n",
      "Value Counts\n",
      "##################################################\n",
      "Average Stressed       195\n",
      "highly stressed        189\n",
      "Less Stressed           79\n",
      "Not Stressed at All     36\n",
      "Name: How stressed do you feel on a daily basis during the academic year, dtype: int64\n"
     ]
    },
    {
     "data": {
      "image/png": "[encoded data removed]",
      "text/plain": [
       "<Figure size 432x288 with 1 Axes>"
      ]
     },
     "metadata": {},
     "output_type": "display_data"
    }
   ],
   "source": [
    "status(data[\"How stressed do you feel on a daily basis during the academic year\"])"
   ]
  },
  {
   "cell_type": "markdown",
   "metadata": {},
   "source": [
    "## Found that you could not cope with all the things you had to do"
   ]
  },
  {
   "cell_type": "code",
   "execution_count": 16,
   "metadata": {},
   "outputs": [
    {
     "name": "stdout",
     "output_type": "stream",
     "text": [
      "Description\n",
      "##################################################\n",
      "count           499\n",
      "unique            5\n",
      "top       Sometimes\n",
      "freq            247\n",
      "Name: Found that you could not cope with all the things you had to do, dtype: object\n",
      "####################################################################################################\n",
      "Value Counts\n",
      "##################################################\n",
      "Sometimes       247\n",
      "Fairly Often     76\n",
      "Very Often       72\n",
      "Never            64\n",
      "Almost Never     40\n",
      "Name: Found that you could not cope with all the things you had to do, dtype: int64\n"
     ]
    },
    {
     "data": {
      "image/png": "[encoded data removed]",
      "text/plain": [
       "<Figure size 432x288 with 1 Axes>"
      ]
     },
     "metadata": {},
     "output_type": "display_data"
    }
   ],
   "source": [
    "status(data[\"Found that you could not cope with all the things you had to do\"])"
   ]
  },
  {
   "cell_type": "markdown",
   "metadata": {},
   "source": [
    "## When do you feel mostly stressed?"
   ]
  },
  {
   "cell_type": "code",
   "execution_count": 17,
   "metadata": {},
   "outputs": [
    {
     "name": "stdout",
     "output_type": "stream",
     "text": [
      "Description\n",
      "##################################################\n",
      "count                                  499\n",
      "unique                                   5\n",
      "top       Online class during evening time\n",
      "freq                                   192\n",
      "Name: When do you feel mostly stressed, dtype: object\n",
      "####################################################################################################\n",
      "Value Counts\n",
      "##################################################\n",
      "Online class during evening time    192\n",
      "Assignment submision deadline       165\n",
      "Online class during day time         75\n",
      "Never feel stressed                  45\n",
      "Online Examination time              22\n",
      "Name: When do you feel mostly stressed, dtype: int64\n"
     ]
    },
    {
     "data": {
      "image/png": "[encoded data removed]",
      "text/plain": [
       "<Figure size 432x288 with 1 Axes>"
      ]
     },
     "metadata": {},
     "output_type": "display_data"
    }
   ],
   "source": [
    "status(data[\"When do you feel mostly stressed\"])"
   ]
  },
  {
   "cell_type": "markdown",
   "metadata": {},
   "source": [
    "## How effective has remote learning been for you?"
   ]
  },
  {
   "cell_type": "code",
   "execution_count": 18,
   "metadata": {},
   "outputs": [
    {
     "name": "stdout",
     "output_type": "stream",
     "text": [
      "Description\n",
      "##################################################\n",
      "count                      499\n",
      "unique                       5\n",
      "top       Moderately effective\n",
      "freq                       185\n",
      "Name: How effective has remote learning been for you, dtype: object\n",
      "####################################################################################################\n",
      "Value Counts\n",
      "##################################################\n",
      "Moderately effective    185\n",
      "Slightly effective      123\n",
      "Not at all effective    105\n",
      "Very effective           52\n",
      "Extremely effective      34\n",
      "Name: How effective has remote learning been for you, dtype: int64\n"
     ]
    },
    {
     "data": {
      "image/png": "[encoded data removed]",
      "text/plain": [
       "<Figure size 432x288 with 1 Axes>"
      ]
     },
     "metadata": {},
     "output_type": "display_data"
    }
   ],
   "source": [
    "status(data[\"How effective has remote learning been for you\"])"
   ]
  },
  {
   "cell_type": "markdown",
   "metadata": {},
   "source": [
    "## How well could you manage time while learning remotely?"
   ]
  },
  {
   "cell_type": "code",
   "execution_count": 19,
   "metadata": {},
   "outputs": [
    {
     "name": "stdout",
     "output_type": "stream",
     "text": [
      "Description\n",
      "##################################################\n",
      "count         495\n",
      "unique          5\n",
      "top       Average\n",
      "freq          193\n",
      "Name: How well could you manage time while learning remotely, dtype: object\n",
      "####################################################################################################\n",
      "Value Counts\n",
      "##################################################\n",
      "Average      193\n",
      "Good         153\n",
      "Very Bad      54\n",
      "Bad           48\n",
      "Very good     47\n",
      "Name: How well could you manage time while learning remotely, dtype: int64\n"
     ]
    },
    {
     "data": {
      "image/png": "[encoded data removed]",
      "text/plain": [
       "<Figure size 432x288 with 1 Axes>"
      ]
     },
     "metadata": {},
     "output_type": "display_data"
    }
   ],
   "source": [
    "status(data[\"How well could you manage time while learning remotely\"])"
   ]
  },
  {
   "cell_type": "markdown",
   "metadata": {},
   "source": [
    "## Do you enjoy learning remotely?"
   ]
  },
  {
   "cell_type": "code",
   "execution_count": 20,
   "metadata": {},
   "outputs": [
    {
     "name": "stdout",
     "output_type": "stream",
     "text": [
      "Description\n",
      "##################################################\n",
      "count                                              496\n",
      "unique                                               4\n",
      "top       Yes, but I would like to change a few things\n",
      "freq                                               206\n",
      "Name: Do you enjoy learning remotely, dtype: object\n",
      "####################################################################################################\n",
      "Value Counts\n",
      "##################################################\n",
      "Yes, but I would like to change a few things    206\n",
      "Yes, absolutely                                 115\n",
      "No, there are quite a few challenges            104\n",
      "Never                                            71\n",
      "Name: Do you enjoy learning remotely, dtype: int64\n"
     ]
    },
    {
     "data": {
      "image/png": "[encoded data removed]",
      "text/plain": [
       "<Figure size 432x288 with 1 Axes>"
      ]
     },
     "metadata": {},
     "output_type": "display_data"
    }
   ],
   "source": [
    "status(data[\"Do you enjoy learning remotely\"])"
   ]
  },
  {
   "cell_type": "code",
   "execution_count": 21,
   "metadata": {},
   "outputs": [],
   "source": [
    "data.iloc[:,2:].to_csv('student_data.csv',index=False)"
   ]
  },
  {
   "cell_type": "code",
   "execution_count": 22,
   "metadata": {},
   "outputs": [
    {
     "data": {
      "text/html": [
       "<div>\n",
       "<style scoped>\n",
       "    .dataframe tbody tr th:only-of-type {\n",
       "        vertical-align: middle;\n",
       "    }\n",
       "\n",
       "    .dataframe tbody tr th {\n",
       "        vertical-align: top;\n",
       "    }\n",
       "\n",
       "    .dataframe thead th {\n",
       "        text-align: right;\n",
       "    }\n",
       "</style>\n",
       "<table border=\"1\" class=\"dataframe\">\n",
       "  <thead>\n",
       "    <tr style=\"text-align: right;\">\n",
       "      <th></th>\n",
       "      <th>Location</th>\n",
       "      <th>What are the usual causes of stress in your daily online class</th>\n",
       "      <th>What are the usual behavioral effects of stress you've noticed at yourself</th>\n",
       "      <th>What are the usual PSYCHOLOGICAL or EMOTIONAL effects of stress you've noticed at yourself</th>\n",
       "      <th>What are the usual PHYSICAL effects of stress you've noticed at yourself</th>\n",
       "      <th>What are the usual COGNITIVE effects of stress you've noticed at yourself</th>\n",
       "      <th>What are the usual SOCIAL effects of stress you've noticed at yourself</th>\n",
       "      <th>What are your personal methods to relieve stress</th>\n",
       "      <th>How stressed do you feel on a daily basis during the academic year</th>\n",
       "      <th>Found that you could not cope with all the things you had to do</th>\n",
       "      <th>When do you feel mostly stressed</th>\n",
       "      <th>How effective has remote learning been for you</th>\n",
       "      <th>How well could you manage time while learning remotely</th>\n",
       "      <th>Do you enjoy learning remotely</th>\n",
       "    </tr>\n",
       "  </thead>\n",
       "  <tbody>\n",
       "    <tr>\n",
       "      <td>0</td>\n",
       "      <td>Urban</td>\n",
       "      <td>Environmental Background Noise</td>\n",
       "      <td>Change in sleep patterns</td>\n",
       "      <td>Feeling isolated, lost, lonely or abandoned, m...</td>\n",
       "      <td>Eye problem due to online class</td>\n",
       "      <td>No cognitive effect</td>\n",
       "      <td>Difficulty engaging in mutual problem solving</td>\n",
       "      <td>Talking with someone</td>\n",
       "      <td>Less Stressed</td>\n",
       "      <td>Almost Never</td>\n",
       "      <td>Assignment submision deadline</td>\n",
       "      <td>Moderately effective</td>\n",
       "      <td>Average</td>\n",
       "      <td>Yes, but I would like to change a few things</td>\n",
       "    </tr>\n",
       "    <tr>\n",
       "      <td>1</td>\n",
       "      <td>Urban</td>\n",
       "      <td>Environmental Background Noise</td>\n",
       "      <td>Difficulty communicating</td>\n",
       "      <td>Feeling isolated, lost, lonely or abandoned, m...</td>\n",
       "      <td>Headaches</td>\n",
       "      <td>Difficulty Concentrating</td>\n",
       "      <td>Difficulty listening</td>\n",
       "      <td>Social Media</td>\n",
       "      <td>highly stressed</td>\n",
       "      <td>Never</td>\n",
       "      <td>Online class during evening time</td>\n",
       "      <td>Not at all effective</td>\n",
       "      <td>Very Bad</td>\n",
       "      <td>Never</td>\n",
       "    </tr>\n",
       "    <tr>\n",
       "      <td>2</td>\n",
       "      <td>Urban</td>\n",
       "      <td>Feeling no stress</td>\n",
       "      <td>Inability to rest, relax or let down</td>\n",
       "      <td>Feeling overwhelmed, helpless or hopeless</td>\n",
       "      <td>Headaches</td>\n",
       "      <td>No cognitive effect</td>\n",
       "      <td>Withdrawing or isolating from people</td>\n",
       "      <td>Sports / Exercise</td>\n",
       "      <td>Less Stressed</td>\n",
       "      <td>Almost Never</td>\n",
       "      <td>Assignment submision deadline</td>\n",
       "      <td>Not at all effective</td>\n",
       "      <td>Good</td>\n",
       "      <td>Yes, but I would like to change a few things</td>\n",
       "    </tr>\n",
       "    <tr>\n",
       "      <td>3</td>\n",
       "      <td>Urban</td>\n",
       "      <td>Health Issue</td>\n",
       "      <td>Decreased efficiency and effectiveness</td>\n",
       "      <td>Feeling overwhelmed, helpless or hopeless</td>\n",
       "      <td>Eye problem due to online class</td>\n",
       "      <td>Difficulty calculating, setting priorities or ...</td>\n",
       "      <td>Difficulty listening</td>\n",
       "      <td>Talking with someone</td>\n",
       "      <td>Average Stressed</td>\n",
       "      <td>Sometimes</td>\n",
       "      <td>Online class during evening time</td>\n",
       "      <td>Moderately effective</td>\n",
       "      <td>Average</td>\n",
       "      <td>No, there are quite a few challenges</td>\n",
       "    </tr>\n",
       "    <tr>\n",
       "      <td>4</td>\n",
       "      <td>Urban</td>\n",
       "      <td>Family Issue</td>\n",
       "      <td>Change in sleep patterns</td>\n",
       "      <td>Feeling overwhelmed, helpless or hopeless</td>\n",
       "      <td>Digestion Problem, Upset stomach, nausea, diar...</td>\n",
       "      <td>Difficulty calculating, setting priorities or ...</td>\n",
       "      <td>Difficulty engaging in mutual problem solving</td>\n",
       "      <td>Sports / Exercise</td>\n",
       "      <td>highly stressed</td>\n",
       "      <td>Fairly Often</td>\n",
       "      <td>Assignment submision deadline</td>\n",
       "      <td>Slightly effective</td>\n",
       "      <td>Good</td>\n",
       "      <td>No, there are quite a few challenges</td>\n",
       "    </tr>\n",
       "  </tbody>\n",
       "</table>\n",
       "</div>"
      ],
      "text/plain": [
       "  Location What are the usual causes of stress in your daily online class  \\\n",
       "0    Urban                     Environmental Background Noise               \n",
       "1    Urban                     Environmental Background Noise               \n",
       "2    Urban                                  Feeling no stress               \n",
       "3    Urban                                       Health Issue               \n",
       "4    Urban                                       Family Issue               \n",
       "\n",
       "  What are the usual behavioral effects of stress you've noticed at yourself  \\\n",
       "0                           Change in sleep patterns                           \n",
       "1                           Difficulty communicating                           \n",
       "2               Inability to rest, relax or let down                           \n",
       "3             Decreased efficiency and effectiveness                           \n",
       "4                           Change in sleep patterns                           \n",
       "\n",
       "  What are the usual PSYCHOLOGICAL or EMOTIONAL effects of stress you've noticed at yourself  \\\n",
       "0  Feeling isolated, lost, lonely or abandoned, m...                                           \n",
       "1  Feeling isolated, lost, lonely or abandoned, m...                                           \n",
       "2          Feeling overwhelmed, helpless or hopeless                                           \n",
       "3          Feeling overwhelmed, helpless or hopeless                                           \n",
       "4          Feeling overwhelmed, helpless or hopeless                                           \n",
       "\n",
       "  What are the usual PHYSICAL effects of stress you've noticed at yourself  \\\n",
       "0                    Eye problem due to online class                         \n",
       "1                                          Headaches                         \n",
       "2                                          Headaches                         \n",
       "3                    Eye problem due to online class                         \n",
       "4  Digestion Problem, Upset stomach, nausea, diar...                         \n",
       "\n",
       "  What are the usual COGNITIVE effects of stress you've noticed at yourself  \\\n",
       "0                                No cognitive effect                          \n",
       "1                           Difficulty Concentrating                          \n",
       "2                                No cognitive effect                          \n",
       "3  Difficulty calculating, setting priorities or ...                          \n",
       "4  Difficulty calculating, setting priorities or ...                          \n",
       "\n",
       "  What are the usual SOCIAL effects of stress you've noticed at yourself  \\\n",
       "0      Difficulty engaging in mutual problem solving                       \n",
       "1                               Difficulty listening                       \n",
       "2               Withdrawing or isolating from people                       \n",
       "3                               Difficulty listening                       \n",
       "4      Difficulty engaging in mutual problem solving                       \n",
       "\n",
       "  What are your personal methods to relieve stress  \\\n",
       "0                             Talking with someone   \n",
       "1                                     Social Media   \n",
       "2                                Sports / Exercise   \n",
       "3                             Talking with someone   \n",
       "4                                Sports / Exercise   \n",
       "\n",
       "  How stressed do you feel on a daily basis during the academic year  \\\n",
       "0                                      Less Stressed                   \n",
       "1                                    highly stressed                   \n",
       "2                                      Less Stressed                   \n",
       "3                                   Average Stressed                   \n",
       "4                                    highly stressed                   \n",
       "\n",
       "  Found that you could not cope with all the things you had to do  \\\n",
       "0                                       Almost Never                \n",
       "1                                              Never                \n",
       "2                                       Almost Never                \n",
       "3                                          Sometimes                \n",
       "4                                       Fairly Often                \n",
       "\n",
       "   When do you feel mostly stressed  \\\n",
       "0     Assignment submision deadline   \n",
       "1  Online class during evening time   \n",
       "2     Assignment submision deadline   \n",
       "3  Online class during evening time   \n",
       "4     Assignment submision deadline   \n",
       "\n",
       "  How effective has remote learning been for you  \\\n",
       "0                           Moderately effective   \n",
       "1                           Not at all effective   \n",
       "2                           Not at all effective   \n",
       "3                           Moderately effective   \n",
       "4                             Slightly effective   \n",
       "\n",
       "  How well could you manage time while learning remotely  \\\n",
       "0                                            Average       \n",
       "1                                           Very Bad       \n",
       "2                                               Good       \n",
       "3                                            Average       \n",
       "4                                               Good       \n",
       "\n",
       "                 Do you enjoy learning remotely  \n",
       "0  Yes, but I would like to change a few things  \n",
       "1                                         Never  \n",
       "2  Yes, but I would like to change a few things  \n",
       "3          No, there are quite a few challenges  \n",
       "4          No, there are quite a few challenges  "
      ]
     },
     "execution_count": 22,
     "metadata": {},
     "output_type": "execute_result"
    }
   ],
   "source": [
    "final_data = pd.read_csv('student_data.csv')\n",
    "final_data[:5]"
   ]
  },
  {
   "cell_type": "markdown",
   "metadata": {},
   "source": [
    "# Text Preprocessing"
   ]
  },
  {
   "cell_type": "code",
   "execution_count": 23,
   "metadata": {},
   "outputs": [
    {
     "name": "stdout",
     "output_type": "stream",
     "text": [
      "['Location', 'What are the usual causes of stress in your daily online class', \"What are the usual behavioral effects of stress you've noticed at yourself\", \"What are the usual PSYCHOLOGICAL or EMOTIONAL effects of stress you've noticed at yourself\", \"What are the usual PHYSICAL effects of stress you've noticed at yourself\", \"What are the usual COGNITIVE effects of stress you've noticed at yourself\", \"What are the usual SOCIAL effects of stress you've noticed at yourself\", 'What are your personal methods to relieve stress', 'How stressed do you feel on a daily basis during the academic year', 'Found that you could not cope with all the things you had to do', 'When do you feel mostly stressed', 'How effective has remote learning been for you', 'How well could you manage time while learning remotely', 'Do you enjoy learning remotely']\n"
     ]
    }
   ],
   "source": [
    "raw_dataset = pd.read_csv('student_data.csv')\n",
    "indexes = []\n",
    "for index in raw_dataset:\n",
    "    indexes.append(index)\n",
    "print(indexes)"
   ]
  },
  {
   "cell_type": "markdown",
   "metadata": {},
   "source": [
    "## Removing special charecter and data cleaning"
   ]
  },
  {
   "cell_type": "code",
   "execution_count": 24,
   "metadata": {},
   "outputs": [],
   "source": [
    "from tqdm import tqdm\n",
    "from bs4 import BeautifulSoup\n",
    "dataset = pd.DataFrame()"
   ]
  },
  {
   "cell_type": "code",
   "execution_count": 25,
   "metadata": {},
   "outputs": [],
   "source": [
    "def decontracted(phrase):\n",
    "    # specific\n",
    "    phrase = re.sub(r\"won't\", \"will not\", phrase)\n",
    "    phrase = re.sub(r\"can't\", \"can not\", phrase)\n",
    "    # general\n",
    "    phrase = re.sub(r\"n\\'t\", \" not\", phrase)\n",
    "    phrase = re.sub(r\"\\'re\", \" are\", phrase)\n",
    "    phrase = re.sub(r\"\\'s\", \" is\", phrase)\n",
    "    phrase = re.sub(r\"\\'d\", \" would\", phrase)\n",
    "    phrase = re.sub(r\"\\'ll\", \" will\", phrase)\n",
    "    phrase = re.sub(r\"\\'t\", \" not\", phrase)\n",
    "    phrase = re.sub(r\"\\'ve\", \" have\", phrase)\n",
    "    phrase = re.sub(r\"\\'m\", \" am\", phrase)\n",
    "    return phrase"
   ]
  },
  {
   "cell_type": "code",
   "execution_count": 26,
   "metadata": {},
   "outputs": [],
   "source": [
    "def clean(data):\n",
    "    preprocessed_data = []\n",
    "    # tqdm is for printing the status bar\n",
    "    for sentance in tqdm(data):\n",
    "        if type(sentance)==str:\n",
    "            sentance = re.sub(r\" / \",\" \", sentance)\n",
    "            sentance = decontracted(sentance)\n",
    "            sentance = re.sub(\"\\S*\\d\\S*\", \"\", sentance).strip()\n",
    "            sentance = re.sub('[^A-Za-z]+',\" \", sentance)\n",
    "            sentance = ' '.join(e.lower() for e in sentance.split())\n",
    "        else:\n",
    "            sentance=\" \"\n",
    "        preprocessed_data.append(sentance.strip())\n",
    "    return preprocessed_data"
   ]
  },
  {
   "cell_type": "code",
   "execution_count": 27,
   "metadata": {},
   "outputs": [
    {
     "name": "stderr",
     "output_type": "stream",
     "text": [
      "100%|██████████| 499/499 [00:00<00:00, 55580.99it/s]\n",
      "100%|██████████| 499/499 [00:00<00:00, 50028.87it/s]\n",
      "100%|██████████| 499/499 [00:00<00:00, 45486.23it/s]\n",
      "100%|██████████| 499/499 [00:00<00:00, 31283.47it/s]\n",
      "100%|██████████| 499/499 [00:00<00:00, 55597.23it/s]\n",
      "100%|██████████| 499/499 [00:00<00:00, 45489.19it/s]\n",
      "100%|██████████| 499/499 [00:00<00:00, 33283.36it/s]\n",
      "100%|██████████| 499/499 [00:00<00:00, 62318.23it/s]\n",
      "100%|██████████| 499/499 [00:00<00:00, 55385.37it/s]\n",
      "100%|██████████| 499/499 [00:00<00:00, 55641.57it/s]\n",
      "100%|██████████| 499/499 [00:00<00:00, 41665.82it/s]\n",
      "100%|██████████| 499/499 [00:00<00:00, 55395.63it/s]\n",
      "100%|██████████| 499/499 [00:00<00:00, 38499.67it/s]\n",
      "100%|██████████| 499/499 [00:00<00:00, 50055.19it/s]\n"
     ]
    },
    {
     "data": {
      "text/html": [
       "<div>\n",
       "<style scoped>\n",
       "    .dataframe tbody tr th:only-of-type {\n",
       "        vertical-align: middle;\n",
       "    }\n",
       "\n",
       "    .dataframe tbody tr th {\n",
       "        vertical-align: top;\n",
       "    }\n",
       "\n",
       "    .dataframe thead th {\n",
       "        text-align: right;\n",
       "    }\n",
       "</style>\n",
       "<table border=\"1\" class=\"dataframe\">\n",
       "  <thead>\n",
       "    <tr style=\"text-align: right;\">\n",
       "      <th></th>\n",
       "      <th>Location</th>\n",
       "      <th>What are the usual causes of stress in your daily online class</th>\n",
       "      <th>What are the usual behavioral effects of stress you've noticed at yourself</th>\n",
       "      <th>What are the usual PSYCHOLOGICAL or EMOTIONAL effects of stress you've noticed at yourself</th>\n",
       "      <th>What are the usual PHYSICAL effects of stress you've noticed at yourself</th>\n",
       "      <th>What are the usual COGNITIVE effects of stress you've noticed at yourself</th>\n",
       "      <th>What are the usual SOCIAL effects of stress you've noticed at yourself</th>\n",
       "      <th>What are your personal methods to relieve stress</th>\n",
       "      <th>How stressed do you feel on a daily basis during the academic year</th>\n",
       "      <th>Found that you could not cope with all the things you had to do</th>\n",
       "      <th>When do you feel mostly stressed</th>\n",
       "      <th>How effective has remote learning been for you</th>\n",
       "      <th>How well could you manage time while learning remotely</th>\n",
       "      <th>Do you enjoy learning remotely</th>\n",
       "    </tr>\n",
       "  </thead>\n",
       "  <tbody>\n",
       "    <tr>\n",
       "      <td>0</td>\n",
       "      <td>urban</td>\n",
       "      <td>environmental background noise</td>\n",
       "      <td>change in sleep patterns</td>\n",
       "      <td>feeling isolated lost lonely or abandoned miss...</td>\n",
       "      <td>eye problem due to online class</td>\n",
       "      <td>no cognitive effect</td>\n",
       "      <td>difficulty engaging in mutual problem solving</td>\n",
       "      <td>talking with someone</td>\n",
       "      <td>less stressed</td>\n",
       "      <td>almost never</td>\n",
       "      <td>assignment submision deadline</td>\n",
       "      <td>moderately effective</td>\n",
       "      <td>average</td>\n",
       "      <td>yes but i would like to change a few things</td>\n",
       "    </tr>\n",
       "    <tr>\n",
       "      <td>1</td>\n",
       "      <td>urban</td>\n",
       "      <td>environmental background noise</td>\n",
       "      <td>difficulty communicating</td>\n",
       "      <td>feeling isolated lost lonely or abandoned miss...</td>\n",
       "      <td>headaches</td>\n",
       "      <td>difficulty concentrating</td>\n",
       "      <td>difficulty listening</td>\n",
       "      <td>social media</td>\n",
       "      <td>highly stressed</td>\n",
       "      <td>never</td>\n",
       "      <td>online class during evening time</td>\n",
       "      <td>not at all effective</td>\n",
       "      <td>very bad</td>\n",
       "      <td>never</td>\n",
       "    </tr>\n",
       "    <tr>\n",
       "      <td>2</td>\n",
       "      <td>urban</td>\n",
       "      <td>feeling no stress</td>\n",
       "      <td>inability to rest relax or let down</td>\n",
       "      <td>feeling overwhelmed helpless or hopeless</td>\n",
       "      <td>headaches</td>\n",
       "      <td>no cognitive effect</td>\n",
       "      <td>withdrawing or isolating from people</td>\n",
       "      <td>sports exercise</td>\n",
       "      <td>less stressed</td>\n",
       "      <td>almost never</td>\n",
       "      <td>assignment submision deadline</td>\n",
       "      <td>not at all effective</td>\n",
       "      <td>good</td>\n",
       "      <td>yes but i would like to change a few things</td>\n",
       "    </tr>\n",
       "    <tr>\n",
       "      <td>3</td>\n",
       "      <td>urban</td>\n",
       "      <td>health issue</td>\n",
       "      <td>decreased efficiency and effectiveness</td>\n",
       "      <td>feeling overwhelmed helpless or hopeless</td>\n",
       "      <td>eye problem due to online class</td>\n",
       "      <td>difficulty calculating setting priorities or m...</td>\n",
       "      <td>difficulty listening</td>\n",
       "      <td>talking with someone</td>\n",
       "      <td>average stressed</td>\n",
       "      <td>sometimes</td>\n",
       "      <td>online class during evening time</td>\n",
       "      <td>moderately effective</td>\n",
       "      <td>average</td>\n",
       "      <td>no there are quite a few challenges</td>\n",
       "    </tr>\n",
       "    <tr>\n",
       "      <td>4</td>\n",
       "      <td>urban</td>\n",
       "      <td>family issue</td>\n",
       "      <td>change in sleep patterns</td>\n",
       "      <td>feeling overwhelmed helpless or hopeless</td>\n",
       "      <td>digestion problem upset stomach nausea diarrhea</td>\n",
       "      <td>difficulty calculating setting priorities or m...</td>\n",
       "      <td>difficulty engaging in mutual problem solving</td>\n",
       "      <td>sports exercise</td>\n",
       "      <td>highly stressed</td>\n",
       "      <td>fairly often</td>\n",
       "      <td>assignment submision deadline</td>\n",
       "      <td>slightly effective</td>\n",
       "      <td>good</td>\n",
       "      <td>no there are quite a few challenges</td>\n",
       "    </tr>\n",
       "    <tr>\n",
       "      <td>...</td>\n",
       "      <td>...</td>\n",
       "      <td>...</td>\n",
       "      <td>...</td>\n",
       "      <td>...</td>\n",
       "      <td>...</td>\n",
       "      <td>...</td>\n",
       "      <td>...</td>\n",
       "      <td>...</td>\n",
       "      <td>...</td>\n",
       "      <td>...</td>\n",
       "      <td>...</td>\n",
       "      <td>...</td>\n",
       "      <td>...</td>\n",
       "      <td>...</td>\n",
       "    </tr>\n",
       "    <tr>\n",
       "      <td>494</td>\n",
       "      <td>urban</td>\n",
       "      <td>feeling no stress</td>\n",
       "      <td>inability to rest relax or let down</td>\n",
       "      <td>sadness moodiness grief or depression</td>\n",
       "      <td>headaches</td>\n",
       "      <td>difficulty calculating setting priorities or m...</td>\n",
       "      <td>no social effect</td>\n",
       "      <td>sleeping</td>\n",
       "      <td>highly stressed</td>\n",
       "      <td>fairly often</td>\n",
       "      <td>online class during evening time</td>\n",
       "      <td>moderately effective</td>\n",
       "      <td>average</td>\n",
       "      <td>yes but i would like to change a few things</td>\n",
       "    </tr>\n",
       "    <tr>\n",
       "      <td>495</td>\n",
       "      <td>rural</td>\n",
       "      <td>environmental background noise</td>\n",
       "      <td>difficulty communicating</td>\n",
       "      <td>feeling overwhelmed helpless or hopeless</td>\n",
       "      <td>eye problem due to online class</td>\n",
       "      <td>difficulty concentrating</td>\n",
       "      <td>difficulty listening</td>\n",
       "      <td>sports exercise</td>\n",
       "      <td>highly stressed</td>\n",
       "      <td>sometimes</td>\n",
       "      <td>online class during evening time</td>\n",
       "      <td>slightly effective</td>\n",
       "      <td>bad</td>\n",
       "      <td>no there are quite a few challenges</td>\n",
       "    </tr>\n",
       "    <tr>\n",
       "      <td>496</td>\n",
       "      <td>urban</td>\n",
       "      <td>feeling no stress</td>\n",
       "      <td>no changes in behaviour</td>\n",
       "      <td>no psychological and emotional effect</td>\n",
       "      <td>no physical effect</td>\n",
       "      <td>no cognitive effect</td>\n",
       "      <td>no social effect</td>\n",
       "      <td>sleeping</td>\n",
       "      <td>less stressed</td>\n",
       "      <td>sometimes</td>\n",
       "      <td>online class during evening time</td>\n",
       "      <td>moderately effective</td>\n",
       "      <td>good</td>\n",
       "      <td>yes but i would like to change a few things</td>\n",
       "    </tr>\n",
       "    <tr>\n",
       "      <td>497</td>\n",
       "      <td>urban</td>\n",
       "      <td>health issue</td>\n",
       "      <td>inability to rest relax or let down</td>\n",
       "      <td>feeling overwhelmed helpless or hopeless</td>\n",
       "      <td>headaches</td>\n",
       "      <td>confusion</td>\n",
       "      <td>difficulty engaging in mutual problem solving</td>\n",
       "      <td>sleeping</td>\n",
       "      <td>highly stressed</td>\n",
       "      <td>very often</td>\n",
       "      <td>online class during evening time</td>\n",
       "      <td>moderately effective</td>\n",
       "      <td>average</td>\n",
       "      <td>yes but i would like to change a few things</td>\n",
       "    </tr>\n",
       "    <tr>\n",
       "      <td>498</td>\n",
       "      <td>urban</td>\n",
       "      <td>health issue</td>\n",
       "      <td>decreased efficiency and effectiveness</td>\n",
       "      <td>feeling overwhelmed helpless or hopeless</td>\n",
       "      <td>headaches</td>\n",
       "      <td>difficulty calculating setting priorities or m...</td>\n",
       "      <td>difficulty engaging in mutual problem solving</td>\n",
       "      <td>sleeping</td>\n",
       "      <td>average stressed</td>\n",
       "      <td>sometimes</td>\n",
       "      <td>online class during evening time</td>\n",
       "      <td>slightly effective</td>\n",
       "      <td>average</td>\n",
       "      <td>no there are quite a few challenges</td>\n",
       "    </tr>\n",
       "  </tbody>\n",
       "</table>\n",
       "<p>499 rows × 14 columns</p>\n",
       "</div>"
      ],
      "text/plain": [
       "    Location What are the usual causes of stress in your daily online class  \\\n",
       "0      urban                     environmental background noise               \n",
       "1      urban                     environmental background noise               \n",
       "2      urban                                  feeling no stress               \n",
       "3      urban                                       health issue               \n",
       "4      urban                                       family issue               \n",
       "..       ...                                                ...               \n",
       "494    urban                                  feeling no stress               \n",
       "495    rural                     environmental background noise               \n",
       "496    urban                                  feeling no stress               \n",
       "497    urban                                       health issue               \n",
       "498    urban                                       health issue               \n",
       "\n",
       "    What are the usual behavioral effects of stress you've noticed at yourself  \\\n",
       "0                             change in sleep patterns                           \n",
       "1                             difficulty communicating                           \n",
       "2                  inability to rest relax or let down                           \n",
       "3               decreased efficiency and effectiveness                           \n",
       "4                             change in sleep patterns                           \n",
       "..                                                 ...                           \n",
       "494                inability to rest relax or let down                           \n",
       "495                           difficulty communicating                           \n",
       "496                            no changes in behaviour                           \n",
       "497                inability to rest relax or let down                           \n",
       "498             decreased efficiency and effectiveness                           \n",
       "\n",
       "    What are the usual PSYCHOLOGICAL or EMOTIONAL effects of stress you've noticed at yourself  \\\n",
       "0    feeling isolated lost lonely or abandoned miss...                                           \n",
       "1    feeling isolated lost lonely or abandoned miss...                                           \n",
       "2             feeling overwhelmed helpless or hopeless                                           \n",
       "3             feeling overwhelmed helpless or hopeless                                           \n",
       "4             feeling overwhelmed helpless or hopeless                                           \n",
       "..                                                 ...                                           \n",
       "494              sadness moodiness grief or depression                                           \n",
       "495           feeling overwhelmed helpless or hopeless                                           \n",
       "496              no psychological and emotional effect                                           \n",
       "497           feeling overwhelmed helpless or hopeless                                           \n",
       "498           feeling overwhelmed helpless or hopeless                                           \n",
       "\n",
       "    What are the usual PHYSICAL effects of stress you've noticed at yourself  \\\n",
       "0                      eye problem due to online class                         \n",
       "1                                            headaches                         \n",
       "2                                            headaches                         \n",
       "3                      eye problem due to online class                         \n",
       "4      digestion problem upset stomach nausea diarrhea                         \n",
       "..                                                 ...                         \n",
       "494                                          headaches                         \n",
       "495                    eye problem due to online class                         \n",
       "496                                 no physical effect                         \n",
       "497                                          headaches                         \n",
       "498                                          headaches                         \n",
       "\n",
       "    What are the usual COGNITIVE effects of stress you've noticed at yourself  \\\n",
       "0                                  no cognitive effect                          \n",
       "1                             difficulty concentrating                          \n",
       "2                                  no cognitive effect                          \n",
       "3    difficulty calculating setting priorities or m...                          \n",
       "4    difficulty calculating setting priorities or m...                          \n",
       "..                                                 ...                          \n",
       "494  difficulty calculating setting priorities or m...                          \n",
       "495                           difficulty concentrating                          \n",
       "496                                no cognitive effect                          \n",
       "497                                          confusion                          \n",
       "498  difficulty calculating setting priorities or m...                          \n",
       "\n",
       "    What are the usual SOCIAL effects of stress you've noticed at yourself  \\\n",
       "0        difficulty engaging in mutual problem solving                       \n",
       "1                                 difficulty listening                       \n",
       "2                 withdrawing or isolating from people                       \n",
       "3                                 difficulty listening                       \n",
       "4        difficulty engaging in mutual problem solving                       \n",
       "..                                                 ...                       \n",
       "494                                   no social effect                       \n",
       "495                               difficulty listening                       \n",
       "496                                   no social effect                       \n",
       "497      difficulty engaging in mutual problem solving                       \n",
       "498      difficulty engaging in mutual problem solving                       \n",
       "\n",
       "    What are your personal methods to relieve stress  \\\n",
       "0                               talking with someone   \n",
       "1                                       social media   \n",
       "2                                    sports exercise   \n",
       "3                               talking with someone   \n",
       "4                                    sports exercise   \n",
       "..                                               ...   \n",
       "494                                         sleeping   \n",
       "495                                  sports exercise   \n",
       "496                                         sleeping   \n",
       "497                                         sleeping   \n",
       "498                                         sleeping   \n",
       "\n",
       "    How stressed do you feel on a daily basis during the academic year  \\\n",
       "0                                        less stressed                   \n",
       "1                                      highly stressed                   \n",
       "2                                        less stressed                   \n",
       "3                                     average stressed                   \n",
       "4                                      highly stressed                   \n",
       "..                                                 ...                   \n",
       "494                                    highly stressed                   \n",
       "495                                    highly stressed                   \n",
       "496                                      less stressed                   \n",
       "497                                    highly stressed                   \n",
       "498                                   average stressed                   \n",
       "\n",
       "    Found that you could not cope with all the things you had to do  \\\n",
       "0                                         almost never                \n",
       "1                                                never                \n",
       "2                                         almost never                \n",
       "3                                            sometimes                \n",
       "4                                         fairly often                \n",
       "..                                                 ...                \n",
       "494                                       fairly often                \n",
       "495                                          sometimes                \n",
       "496                                          sometimes                \n",
       "497                                         very often                \n",
       "498                                          sometimes                \n",
       "\n",
       "     When do you feel mostly stressed  \\\n",
       "0       assignment submision deadline   \n",
       "1    online class during evening time   \n",
       "2       assignment submision deadline   \n",
       "3    online class during evening time   \n",
       "4       assignment submision deadline   \n",
       "..                                ...   \n",
       "494  online class during evening time   \n",
       "495  online class during evening time   \n",
       "496  online class during evening time   \n",
       "497  online class during evening time   \n",
       "498  online class during evening time   \n",
       "\n",
       "    How effective has remote learning been for you  \\\n",
       "0                             moderately effective   \n",
       "1                             not at all effective   \n",
       "2                             not at all effective   \n",
       "3                             moderately effective   \n",
       "4                               slightly effective   \n",
       "..                                             ...   \n",
       "494                           moderately effective   \n",
       "495                             slightly effective   \n",
       "496                           moderately effective   \n",
       "497                           moderately effective   \n",
       "498                             slightly effective   \n",
       "\n",
       "    How well could you manage time while learning remotely  \\\n",
       "0                                              average       \n",
       "1                                             very bad       \n",
       "2                                                 good       \n",
       "3                                              average       \n",
       "4                                                 good       \n",
       "..                                                 ...       \n",
       "494                                            average       \n",
       "495                                                bad       \n",
       "496                                               good       \n",
       "497                                            average       \n",
       "498                                            average       \n",
       "\n",
       "                  Do you enjoy learning remotely  \n",
       "0    yes but i would like to change a few things  \n",
       "1                                          never  \n",
       "2    yes but i would like to change a few things  \n",
       "3            no there are quite a few challenges  \n",
       "4            no there are quite a few challenges  \n",
       "..                                           ...  \n",
       "494  yes but i would like to change a few things  \n",
       "495          no there are quite a few challenges  \n",
       "496  yes but i would like to change a few things  \n",
       "497  yes but i would like to change a few things  \n",
       "498          no there are quite a few challenges  \n",
       "\n",
       "[499 rows x 14 columns]"
      ]
     },
     "execution_count": 27,
     "metadata": {},
     "output_type": "execute_result"
    }
   ],
   "source": [
    "for index in raw_dataset:\n",
    "    column = clean(raw_dataset[index])\n",
    "    dataset[index] = column\n",
    "dataset"
   ]
  },
  {
   "cell_type": "markdown",
   "metadata": {},
   "source": [
    "# Text Proccessing"
   ]
  },
  {
   "cell_type": "code",
   "execution_count": 28,
   "metadata": {},
   "outputs": [],
   "source": [
    "def sentanceToVector(data):\n",
    "    wordlist = {}\n",
    "    for sen in tqdm(data):\n",
    "        for word in  sen.split():\n",
    "            if word in wordlist.keys():\n",
    "                wordlist[word] = wordlist[word]+1\n",
    "            else:\n",
    "                wordlist[word] = 1\n",
    "    sorted_list = dict(sorted(wordlist.items(), key=lambda x: x[1],reverse=True))\n",
    "    print(len(wordlist))\n",
    "    print(str(sorted_list))\n",
    "    vector = []\n",
    "    for sen in tqdm(data):\n",
    "        words = set(sen.split())\n",
    "        code = '0'\n",
    "        for word in sorted_list:\n",
    "            if word in words:\n",
    "                code = code + '1'\n",
    "            else:\n",
    "                code = code + '0'\n",
    "        vector.append(int(code,2))\n",
    "    return vector     "
   ]
  },
  {
   "cell_type": "code",
   "execution_count": 29,
   "metadata": {},
   "outputs": [],
   "source": [
    "final_dataset = pd.DataFrame()\n",
    "final_dataset['Location'] = dataset['Location']"
   ]
  },
  {
   "cell_type": "code",
   "execution_count": 30,
   "metadata": {},
   "outputs": [
    {
     "name": "stdout",
     "output_type": "stream",
     "text": [
      "==================================================\n",
      "What are the usual causes of stress in your daily online class\n"
     ]
    },
    {
     "name": "stderr",
     "output_type": "stream",
     "text": [
      "100%|██████████| 499/499 [00:00<00:00, 499989.89it/s]\n"
     ]
    },
    {
     "name": "stdout",
     "output_type": "stream",
     "text": [
      "9\n",
      "{'feeling': 204, 'no': 204, 'stress': 204, 'issue': 181, 'health': 139, 'environmental': 114, 'background': 114, 'noise': 114, 'family': 42}\n"
     ]
    },
    {
     "name": "stderr",
     "output_type": "stream",
     "text": [
      "100%|██████████| 499/499 [00:00<00:00, 165739.44it/s]\n"
     ]
    },
    {
     "name": "stdout",
     "output_type": "stream",
     "text": [
      "==================================================\n",
      "What are the usual behavioral effects of stress you've noticed at yourself\n"
     ]
    },
    {
     "name": "stderr",
     "output_type": "stream",
     "text": [
      "100%|██████████| 499/499 [00:00<00:00, 252133.20it/s]\n"
     ]
    },
    {
     "name": "stdout",
     "output_type": "stream",
     "text": [
      "22\n",
      "{'in': 197, 'inability': 172, 'to': 172, 'rest': 172, 'relax': 172, 'or': 172, 'let': 172, 'down': 172, 'no': 101, 'changes': 101, 'behaviour': 101, 'change': 96, 'decreased': 90, 'efficiency': 90, 'and': 90, 'effectiveness': 90, 'sleep': 54, 'patterns': 54, 'activity': 42, 'levels': 42, 'difficulty': 40, 'communicating': 40}\n"
     ]
    },
    {
     "name": "stderr",
     "output_type": "stream",
     "text": [
      "100%|██████████| 499/499 [00:00<00:00, 164722.00it/s]\n"
     ]
    },
    {
     "name": "stdout",
     "output_type": "stream",
     "text": [
      "==================================================\n",
      "What are the usual PSYCHOLOGICAL or EMOTIONAL effects of stress you've noticed at yourself\n"
     ]
    },
    {
     "name": "stderr",
     "output_type": "stream",
     "text": [
      "100%|██████████| 499/499 [00:00<00:00, 167249.30it/s]\n"
     ]
    },
    {
     "name": "stdout",
     "output_type": "stream",
     "text": [
      "22\n",
      "{'or': 297, 'no': 202, 'psychological': 202, 'and': 202, 'emotional': 202, 'effect': 202, 'feeling': 197, 'overwhelmed': 100, 'helpless': 100, 'hopeless': 100, 'isolated': 97, 'lost': 97, 'lonely': 97, 'abandoned': 97, 'missing': 97, 'friends': 97, 'sadness': 71, 'moodiness': 71, 'grief': 71, 'depression': 71, 'anxlety': 29, 'fear': 29}\n"
     ]
    },
    {
     "name": "stderr",
     "output_type": "stream",
     "text": [
      "100%|██████████| 499/499 [00:00<00:00, 250293.91it/s]\n"
     ]
    },
    {
     "name": "stdout",
     "output_type": "stream",
     "text": [
      "==================================================\n",
      "What are the usual PHYSICAL effects of stress you've noticed at yourself\n"
     ]
    },
    {
     "name": "stderr",
     "output_type": "stream",
     "text": [
      "100%|██████████| 499/499 [00:00<00:00, 500707.58it/s]\n"
     ]
    },
    {
     "name": "stdout",
     "output_type": "stream",
     "text": [
      "19\n",
      "{'problem': 178, 'eye': 167, 'due': 167, 'to': 167, 'online': 167, 'class': 167, 'headaches': 158, 'no': 148, 'physical': 148, 'effect': 148, 'tremors': 15, 'or': 15, 'muscle': 15, 'twitching': 15, 'digestion': 11, 'upset': 11, 'stomach': 11, 'nausea': 11, 'diarrhea': 11}\n"
     ]
    },
    {
     "name": "stderr",
     "output_type": "stream",
     "text": [
      "100%|██████████| 499/499 [00:00<00:00, 251951.09it/s]\n"
     ]
    },
    {
     "name": "stdout",
     "output_type": "stream",
     "text": [
      "==================================================\n",
      "What are the usual COGNITIVE effects of stress you've noticed at yourself\n"
     ]
    },
    {
     "name": "stderr",
     "output_type": "stream",
     "text": [
      "100%|██████████| 499/499 [00:00<00:00, 500707.58it/s]\n"
     ]
    },
    {
     "name": "stdout",
     "output_type": "stream",
     "text": [
      "21\n",
      "{'difficulty': 270, 'or': 185, 'no': 146, 'cognitive': 146, 'effect': 146, 'concentrating': 137, 'calculating': 133, 'setting': 133, 'priorities': 133, 'making': 133, 'decisions': 133, 'due': 133, 'to': 133, 'huge': 133, 'workload': 133, 'slowness': 52, 'in': 52, 'thinking': 52, 'analyzing': 52, 'comprehending': 52, 'confusion': 31}\n"
     ]
    },
    {
     "name": "stderr",
     "output_type": "stream",
     "text": [
      "100%|██████████| 499/499 [00:00<00:00, 125064.70it/s]\n"
     ]
    },
    {
     "name": "stdout",
     "output_type": "stream",
     "text": [
      "==================================================\n",
      "What are the usual SOCIAL effects of stress you've noticed at yourself\n"
     ]
    },
    {
     "name": "stderr",
     "output_type": "stream",
     "text": [
      "100%|██████████| 499/499 [00:00<00:00, 499631.82it/s]\n"
     ]
    },
    {
     "name": "stdout",
     "output_type": "stream",
     "text": [
      "17\n",
      "{'difficulty': 234, 'no': 180, 'social': 180, 'effect': 180, 'listening': 93, 'engaging': 90, 'in': 90, 'mutual': 90, 'problem': 90, 'solving': 90, 'withdrawing': 85, 'or': 85, 'isolating': 85, 'from': 85, 'people': 85, 'sharing': 51, 'ideas': 51}\n"
     ]
    },
    {
     "name": "stderr",
     "output_type": "stream",
     "text": [
      "100%|██████████| 499/499 [00:00<00:00, 250234.06it/s]\n"
     ]
    },
    {
     "name": "stdout",
     "output_type": "stream",
     "text": [
      "==================================================\n",
      "What are your personal methods to relieve stress\n"
     ]
    },
    {
     "name": "stderr",
     "output_type": "stream",
     "text": [
      "100%|██████████| 499/499 [00:00<?, ?it/s]\n"
     ]
    },
    {
     "name": "stdout",
     "output_type": "stream",
     "text": [
      "11\n",
      "{'sports': 167, 'exercise': 167, 'sleeping': 143, 'talking': 91, 'with': 91, 'someone': 91, 'computer': 43, 'games': 43, 'social': 30, 'media': 30, 'eating': 14}\n"
     ]
    },
    {
     "name": "stderr",
     "output_type": "stream",
     "text": [
      "100%|██████████| 499/499 [00:00<00:00, 478281.01it/s]\n"
     ]
    },
    {
     "name": "stdout",
     "output_type": "stream",
     "text": [
      "==================================================\n",
      "How stressed do you feel on a daily basis during the academic year\n"
     ]
    },
    {
     "name": "stderr",
     "output_type": "stream",
     "text": [
      "100%|██████████| 499/499 [00:00<00:00, 250984.25it/s]\n"
     ]
    },
    {
     "name": "stdout",
     "output_type": "stream",
     "text": [
      "7\n",
      "{'stressed': 499, 'average': 195, 'highly': 189, 'less': 79, 'not': 36, 'at': 36, 'all': 36}\n"
     ]
    },
    {
     "name": "stderr",
     "output_type": "stream",
     "text": [
      "100%|██████████| 499/499 [00:00<00:00, 499751.12it/s]\n"
     ]
    },
    {
     "name": "stdout",
     "output_type": "stream",
     "text": [
      "==================================================\n",
      "Found that you could not cope with all the things you had to do\n"
     ]
    },
    {
     "name": "stderr",
     "output_type": "stream",
     "text": [
      "100%|██████████| 499/499 [00:00<00:00, 251829.83it/s]\n"
     ]
    },
    {
     "name": "stdout",
     "output_type": "stream",
     "text": [
      "6\n",
      "{'sometimes': 247, 'often': 148, 'never': 104, 'fairly': 76, 'very': 72, 'almost': 40}\n"
     ]
    },
    {
     "name": "stderr",
     "output_type": "stream",
     "text": [
      "100%|██████████| 499/499 [00:00<00:00, 249577.59it/s]\n"
     ]
    },
    {
     "name": "stdout",
     "output_type": "stream",
     "text": [
      "==================================================\n",
      "When do you feel mostly stressed\n"
     ]
    },
    {
     "name": "stderr",
     "output_type": "stream",
     "text": [
      "100%|██████████| 499/499 [00:00<00:00, 503720.26it/s]\n"
     ]
    },
    {
     "name": "stdout",
     "output_type": "stream",
     "text": [
      "13\n",
      "{'online': 289, 'time': 289, 'class': 267, 'during': 267, 'evening': 192, 'assignment': 165, 'submision': 165, 'deadline': 165, 'day': 75, 'never': 45, 'feel': 45, 'stressed': 45, 'examination': 22}\n"
     ]
    },
    {
     "name": "stderr",
     "output_type": "stream",
     "text": [
      "100%|██████████| 499/499 [00:00<00:00, 249935.24it/s]\n"
     ]
    },
    {
     "name": "stdout",
     "output_type": "stream",
     "text": [
      "==================================================\n",
      "How effective has remote learning been for you\n"
     ]
    },
    {
     "name": "stderr",
     "output_type": "stream",
     "text": [
      "100%|██████████| 499/499 [00:00<00:00, 497257.71it/s]\n"
     ]
    },
    {
     "name": "stdout",
     "output_type": "stream",
     "text": [
      "8\n",
      "{'effective': 499, 'moderately': 185, 'slightly': 123, 'not': 105, 'at': 105, 'all': 105, 'very': 52, 'extremely': 34}\n"
     ]
    },
    {
     "name": "stderr",
     "output_type": "stream",
     "text": [
      "100%|██████████| 499/499 [00:00<00:00, 166782.83it/s]\n"
     ]
    },
    {
     "name": "stdout",
     "output_type": "stream",
     "text": [
      "==================================================\n",
      "How well could you manage time while learning remotely\n"
     ]
    },
    {
     "name": "stderr",
     "output_type": "stream",
     "text": [
      "100%|██████████| 499/499 [00:00<00:00, 498917.21it/s]\n"
     ]
    },
    {
     "name": "stdout",
     "output_type": "stream",
     "text": [
      "4\n",
      "{'good': 200, 'average': 193, 'bad': 102, 'very': 101}\n"
     ]
    },
    {
     "name": "stderr",
     "output_type": "stream",
     "text": [
      "100%|██████████| 499/499 [00:00<00:00, 249994.95it/s]\n"
     ]
    },
    {
     "name": "stdout",
     "output_type": "stream",
     "text": [
      "==================================================\n",
      "Do you enjoy learning remotely\n"
     ]
    },
    {
     "name": "stderr",
     "output_type": "stream",
     "text": [
      "100%|██████████| 499/499 [00:00<00:00, 256993.82it/s]\n"
     ]
    },
    {
     "name": "stdout",
     "output_type": "stream",
     "text": [
      "17\n",
      "{'yes': 321, 'a': 310, 'few': 310, 'but': 206, 'i': 206, 'would': 206, 'like': 206, 'to': 206, 'change': 206, 'things': 206, 'absolutely': 115, 'no': 104, 'there': 104, 'are': 104, 'quite': 104, 'challenges': 104, 'never': 71}\n"
     ]
    },
    {
     "name": "stderr",
     "output_type": "stream",
     "text": [
      "100%|██████████| 499/499 [00:00<00:00, 250144.34it/s]\n"
     ]
    }
   ],
   "source": [
    "titles = list(e for e in dataset)\n",
    "for title in titles[1:]:\n",
    "    print(\"=\"*50)\n",
    "    print(title)\n",
    "    vector = sentanceToVector(dataset[title])\n",
    "    final_dataset[title] = vector"
   ]
  },
  {
   "cell_type": "code",
   "execution_count": 31,
   "metadata": {},
   "outputs": [
    {
     "data": {
      "text/html": [
       "<div>\n",
       "<style scoped>\n",
       "    .dataframe tbody tr th:only-of-type {\n",
       "        vertical-align: middle;\n",
       "    }\n",
       "\n",
       "    .dataframe tbody tr th {\n",
       "        vertical-align: top;\n",
       "    }\n",
       "\n",
       "    .dataframe thead th {\n",
       "        text-align: right;\n",
       "    }\n",
       "</style>\n",
       "<table border=\"1\" class=\"dataframe\">\n",
       "  <thead>\n",
       "    <tr style=\"text-align: right;\">\n",
       "      <th></th>\n",
       "      <th>Location</th>\n",
       "      <th>What are the usual causes of stress in your daily online class</th>\n",
       "      <th>What are the usual behavioral effects of stress you've noticed at yourself</th>\n",
       "      <th>What are the usual PSYCHOLOGICAL or EMOTIONAL effects of stress you've noticed at yourself</th>\n",
       "      <th>What are the usual PHYSICAL effects of stress you've noticed at yourself</th>\n",
       "      <th>What are the usual COGNITIVE effects of stress you've noticed at yourself</th>\n",
       "      <th>What are the usual SOCIAL effects of stress you've noticed at yourself</th>\n",
       "      <th>What are your personal methods to relieve stress</th>\n",
       "      <th>How stressed do you feel on a daily basis during the academic year</th>\n",
       "      <th>Found that you could not cope with all the things you had to do</th>\n",
       "      <th>When do you feel mostly stressed</th>\n",
       "      <th>How effective has remote learning been for you</th>\n",
       "      <th>How well could you manage time while learning remotely</th>\n",
       "      <th>Do you enjoy learning remotely</th>\n",
       "    </tr>\n",
       "  </thead>\n",
       "  <tbody>\n",
       "    <tr>\n",
       "      <td>0</td>\n",
       "      <td>urban</td>\n",
       "      <td>14</td>\n",
       "      <td>2098224</td>\n",
       "      <td>2133952</td>\n",
       "      <td>516096</td>\n",
       "      <td>458752</td>\n",
       "      <td>69504</td>\n",
       "      <td>224</td>\n",
       "      <td>72</td>\n",
       "      <td>9</td>\n",
       "      <td>224</td>\n",
       "      <td>192</td>\n",
       "      <td>4</td>\n",
       "      <td>130944</td>\n",
       "    </tr>\n",
       "    <tr>\n",
       "      <td>1</td>\n",
       "      <td>urban</td>\n",
       "      <td>14</td>\n",
       "      <td>3</td>\n",
       "      <td>2133952</td>\n",
       "      <td>4096</td>\n",
       "      <td>1081344</td>\n",
       "      <td>69632</td>\n",
       "      <td>6</td>\n",
       "      <td>80</td>\n",
       "      <td>8</td>\n",
       "      <td>7936</td>\n",
       "      <td>156</td>\n",
       "      <td>3</td>\n",
       "      <td>1</td>\n",
       "    </tr>\n",
       "    <tr>\n",
       "      <td>2</td>\n",
       "      <td>urban</td>\n",
       "      <td>448</td>\n",
       "      <td>2080768</td>\n",
       "      <td>2158592</td>\n",
       "      <td>4096</td>\n",
       "      <td>458752</td>\n",
       "      <td>124</td>\n",
       "      <td>1536</td>\n",
       "      <td>72</td>\n",
       "      <td>9</td>\n",
       "      <td>224</td>\n",
       "      <td>156</td>\n",
       "      <td>8</td>\n",
       "      <td>130944</td>\n",
       "    </tr>\n",
       "    <tr>\n",
       "      <td>3</td>\n",
       "      <td>urban</td>\n",
       "      <td>48</td>\n",
       "      <td>960</td>\n",
       "      <td>2158592</td>\n",
       "      <td>516096</td>\n",
       "      <td>1605568</td>\n",
       "      <td>69632</td>\n",
       "      <td>224</td>\n",
       "      <td>96</td>\n",
       "      <td>32</td>\n",
       "      <td>7936</td>\n",
       "      <td>192</td>\n",
       "      <td>4</td>\n",
       "      <td>49214</td>\n",
       "    </tr>\n",
       "    <tr>\n",
       "      <td>4</td>\n",
       "      <td>urban</td>\n",
       "      <td>33</td>\n",
       "      <td>2098224</td>\n",
       "      <td>2158592</td>\n",
       "      <td>262175</td>\n",
       "      <td>1605568</td>\n",
       "      <td>69504</td>\n",
       "      <td>1536</td>\n",
       "      <td>80</td>\n",
       "      <td>20</td>\n",
       "      <td>224</td>\n",
       "      <td>160</td>\n",
       "      <td>8</td>\n",
       "      <td>49214</td>\n",
       "    </tr>\n",
       "    <tr>\n",
       "      <td>...</td>\n",
       "      <td>...</td>\n",
       "      <td>...</td>\n",
       "      <td>...</td>\n",
       "      <td>...</td>\n",
       "      <td>...</td>\n",
       "      <td>...</td>\n",
       "      <td>...</td>\n",
       "      <td>...</td>\n",
       "      <td>...</td>\n",
       "      <td>...</td>\n",
       "      <td>...</td>\n",
       "      <td>...</td>\n",
       "      <td>...</td>\n",
       "      <td>...</td>\n",
       "    </tr>\n",
       "    <tr>\n",
       "      <td>494</td>\n",
       "      <td>urban</td>\n",
       "      <td>448</td>\n",
       "      <td>2080768</td>\n",
       "      <td>2097212</td>\n",
       "      <td>4096</td>\n",
       "      <td>1605568</td>\n",
       "      <td>57344</td>\n",
       "      <td>256</td>\n",
       "      <td>80</td>\n",
       "      <td>20</td>\n",
       "      <td>7936</td>\n",
       "      <td>192</td>\n",
       "      <td>4</td>\n",
       "      <td>130944</td>\n",
       "    </tr>\n",
       "    <tr>\n",
       "      <td>495</td>\n",
       "      <td>rural</td>\n",
       "      <td>14</td>\n",
       "      <td>3</td>\n",
       "      <td>2158592</td>\n",
       "      <td>516096</td>\n",
       "      <td>1081344</td>\n",
       "      <td>69632</td>\n",
       "      <td>1536</td>\n",
       "      <td>80</td>\n",
       "      <td>32</td>\n",
       "      <td>7936</td>\n",
       "      <td>160</td>\n",
       "      <td>2</td>\n",
       "      <td>49214</td>\n",
       "    </tr>\n",
       "    <tr>\n",
       "      <td>496</td>\n",
       "      <td>urban</td>\n",
       "      <td>448</td>\n",
       "      <td>2111488</td>\n",
       "      <td>2031616</td>\n",
       "      <td>3584</td>\n",
       "      <td>458752</td>\n",
       "      <td>57344</td>\n",
       "      <td>256</td>\n",
       "      <td>72</td>\n",
       "      <td>32</td>\n",
       "      <td>7936</td>\n",
       "      <td>192</td>\n",
       "      <td>8</td>\n",
       "      <td>130944</td>\n",
       "    </tr>\n",
       "    <tr>\n",
       "      <td>497</td>\n",
       "      <td>urban</td>\n",
       "      <td>48</td>\n",
       "      <td>2080768</td>\n",
       "      <td>2158592</td>\n",
       "      <td>4096</td>\n",
       "      <td>1</td>\n",
       "      <td>69504</td>\n",
       "      <td>256</td>\n",
       "      <td>80</td>\n",
       "      <td>18</td>\n",
       "      <td>7936</td>\n",
       "      <td>192</td>\n",
       "      <td>4</td>\n",
       "      <td>130944</td>\n",
       "    </tr>\n",
       "    <tr>\n",
       "      <td>498</td>\n",
       "      <td>urban</td>\n",
       "      <td>48</td>\n",
       "      <td>960</td>\n",
       "      <td>2158592</td>\n",
       "      <td>4096</td>\n",
       "      <td>1605568</td>\n",
       "      <td>69504</td>\n",
       "      <td>256</td>\n",
       "      <td>96</td>\n",
       "      <td>32</td>\n",
       "      <td>7936</td>\n",
       "      <td>160</td>\n",
       "      <td>4</td>\n",
       "      <td>49214</td>\n",
       "    </tr>\n",
       "  </tbody>\n",
       "</table>\n",
       "<p>499 rows × 14 columns</p>\n",
       "</div>"
      ],
      "text/plain": [
       "    Location  What are the usual causes of stress in your daily online class  \\\n",
       "0      urban                                                 14                \n",
       "1      urban                                                 14                \n",
       "2      urban                                                448                \n",
       "3      urban                                                 48                \n",
       "4      urban                                                 33                \n",
       "..       ...                                                ...                \n",
       "494    urban                                                448                \n",
       "495    rural                                                 14                \n",
       "496    urban                                                448                \n",
       "497    urban                                                 48                \n",
       "498    urban                                                 48                \n",
       "\n",
       "     What are the usual behavioral effects of stress you've noticed at yourself  \\\n",
       "0                                              2098224                            \n",
       "1                                                    3                            \n",
       "2                                              2080768                            \n",
       "3                                                  960                            \n",
       "4                                              2098224                            \n",
       "..                                                 ...                            \n",
       "494                                            2080768                            \n",
       "495                                                  3                            \n",
       "496                                            2111488                            \n",
       "497                                            2080768                            \n",
       "498                                                960                            \n",
       "\n",
       "     What are the usual PSYCHOLOGICAL or EMOTIONAL effects of stress you've noticed at yourself  \\\n",
       "0                                              2133952                                            \n",
       "1                                              2133952                                            \n",
       "2                                              2158592                                            \n",
       "3                                              2158592                                            \n",
       "4                                              2158592                                            \n",
       "..                                                 ...                                            \n",
       "494                                            2097212                                            \n",
       "495                                            2158592                                            \n",
       "496                                            2031616                                            \n",
       "497                                            2158592                                            \n",
       "498                                            2158592                                            \n",
       "\n",
       "     What are the usual PHYSICAL effects of stress you've noticed at yourself  \\\n",
       "0                                               516096                          \n",
       "1                                                 4096                          \n",
       "2                                                 4096                          \n",
       "3                                               516096                          \n",
       "4                                               262175                          \n",
       "..                                                 ...                          \n",
       "494                                               4096                          \n",
       "495                                             516096                          \n",
       "496                                               3584                          \n",
       "497                                               4096                          \n",
       "498                                               4096                          \n",
       "\n",
       "     What are the usual COGNITIVE effects of stress you've noticed at yourself  \\\n",
       "0                                               458752                           \n",
       "1                                              1081344                           \n",
       "2                                               458752                           \n",
       "3                                              1605568                           \n",
       "4                                              1605568                           \n",
       "..                                                 ...                           \n",
       "494                                            1605568                           \n",
       "495                                            1081344                           \n",
       "496                                             458752                           \n",
       "497                                                  1                           \n",
       "498                                            1605568                           \n",
       "\n",
       "     What are the usual SOCIAL effects of stress you've noticed at yourself  \\\n",
       "0                                                69504                        \n",
       "1                                                69632                        \n",
       "2                                                  124                        \n",
       "3                                                69632                        \n",
       "4                                                69504                        \n",
       "..                                                 ...                        \n",
       "494                                              57344                        \n",
       "495                                              69632                        \n",
       "496                                              57344                        \n",
       "497                                              69504                        \n",
       "498                                              69504                        \n",
       "\n",
       "     What are your personal methods to relieve stress  \\\n",
       "0                                                 224   \n",
       "1                                                   6   \n",
       "2                                                1536   \n",
       "3                                                 224   \n",
       "4                                                1536   \n",
       "..                                                ...   \n",
       "494                                               256   \n",
       "495                                              1536   \n",
       "496                                               256   \n",
       "497                                               256   \n",
       "498                                               256   \n",
       "\n",
       "     How stressed do you feel on a daily basis during the academic year  \\\n",
       "0                                                   72                    \n",
       "1                                                   80                    \n",
       "2                                                   72                    \n",
       "3                                                   96                    \n",
       "4                                                   80                    \n",
       "..                                                 ...                    \n",
       "494                                                 80                    \n",
       "495                                                 80                    \n",
       "496                                                 72                    \n",
       "497                                                 80                    \n",
       "498                                                 96                    \n",
       "\n",
       "     Found that you could not cope with all the things you had to do  \\\n",
       "0                                                    9                 \n",
       "1                                                    8                 \n",
       "2                                                    9                 \n",
       "3                                                   32                 \n",
       "4                                                   20                 \n",
       "..                                                 ...                 \n",
       "494                                                 20                 \n",
       "495                                                 32                 \n",
       "496                                                 32                 \n",
       "497                                                 18                 \n",
       "498                                                 32                 \n",
       "\n",
       "     When do you feel mostly stressed  \\\n",
       "0                                 224   \n",
       "1                                7936   \n",
       "2                                 224   \n",
       "3                                7936   \n",
       "4                                 224   \n",
       "..                                ...   \n",
       "494                              7936   \n",
       "495                              7936   \n",
       "496                              7936   \n",
       "497                              7936   \n",
       "498                              7936   \n",
       "\n",
       "     How effective has remote learning been for you  \\\n",
       "0                                               192   \n",
       "1                                               156   \n",
       "2                                               156   \n",
       "3                                               192   \n",
       "4                                               160   \n",
       "..                                              ...   \n",
       "494                                             192   \n",
       "495                                             160   \n",
       "496                                             192   \n",
       "497                                             192   \n",
       "498                                             160   \n",
       "\n",
       "     How well could you manage time while learning remotely  \\\n",
       "0                                                    4        \n",
       "1                                                    3        \n",
       "2                                                    8        \n",
       "3                                                    4        \n",
       "4                                                    8        \n",
       "..                                                 ...        \n",
       "494                                                  4        \n",
       "495                                                  2        \n",
       "496                                                  8        \n",
       "497                                                  4        \n",
       "498                                                  4        \n",
       "\n",
       "     Do you enjoy learning remotely  \n",
       "0                            130944  \n",
       "1                                 1  \n",
       "2                            130944  \n",
       "3                             49214  \n",
       "4                             49214  \n",
       "..                              ...  \n",
       "494                          130944  \n",
       "495                           49214  \n",
       "496                          130944  \n",
       "497                          130944  \n",
       "498                           49214  \n",
       "\n",
       "[499 rows x 14 columns]"
      ]
     },
     "execution_count": 31,
     "metadata": {},
     "output_type": "execute_result"
    }
   ],
   "source": [
    "final_dataset"
   ]
  },
  {
   "cell_type": "code",
   "execution_count": 32,
   "metadata": {},
   "outputs": [],
   "source": [
    "final_dataset.to_csv('final_dataset.csv',index = False)"
   ]
  },
  {
   "cell_type": "code",
   "execution_count": 32,
   "metadata": {},
   "outputs": [
    {
     "ename": "KeyError",
     "evalue": "1",
     "output_type": "error",
     "traceback": [
      "\u001b[1;31m---------------------------------------------------------------------------\u001b[0m",
      "\u001b[1;31mKeyError\u001b[0m                                  Traceback (most recent call last)",
      "\u001b[1;32m~\\Anaconda3\\lib\\site-packages\\pandas\\core\\indexes\\base.py\u001b[0m in \u001b[0;36mget_loc\u001b[1;34m(self, key, method, tolerance)\u001b[0m\n\u001b[0;32m   2896\u001b[0m             \u001b[1;32mtry\u001b[0m\u001b[1;33m:\u001b[0m\u001b[1;33m\u001b[0m\u001b[1;33m\u001b[0m\u001b[0m\n\u001b[1;32m-> 2897\u001b[1;33m                 \u001b[1;32mreturn\u001b[0m \u001b[0mself\u001b[0m\u001b[1;33m.\u001b[0m\u001b[0m_engine\u001b[0m\u001b[1;33m.\u001b[0m\u001b[0mget_loc\u001b[0m\u001b[1;33m(\u001b[0m\u001b[0mkey\u001b[0m\u001b[1;33m)\u001b[0m\u001b[1;33m\u001b[0m\u001b[1;33m\u001b[0m\u001b[0m\n\u001b[0m\u001b[0;32m   2898\u001b[0m             \u001b[1;32mexcept\u001b[0m \u001b[0mKeyError\u001b[0m\u001b[1;33m:\u001b[0m\u001b[1;33m\u001b[0m\u001b[1;33m\u001b[0m\u001b[0m\n",
      "\u001b[1;32mpandas\\_libs\\index.pyx\u001b[0m in \u001b[0;36mpandas._libs.index.IndexEngine.get_loc\u001b[1;34m()\u001b[0m\n",
      "\u001b[1;32mpandas\\_libs\\index.pyx\u001b[0m in \u001b[0;36mpandas._libs.index.IndexEngine.get_loc\u001b[1;34m()\u001b[0m\n",
      "\u001b[1;32mpandas\\_libs\\hashtable_class_helper.pxi\u001b[0m in \u001b[0;36mpandas._libs.hashtable.PyObjectHashTable.get_item\u001b[1;34m()\u001b[0m\n",
      "\u001b[1;32mpandas\\_libs\\hashtable_class_helper.pxi\u001b[0m in \u001b[0;36mpandas._libs.hashtable.PyObjectHashTable.get_item\u001b[1;34m()\u001b[0m\n",
      "\u001b[1;31mKeyError\u001b[0m: 1",
      "\nDuring handling of the above exception, another exception occurred:\n",
      "\u001b[1;31mKeyError\u001b[0m                                  Traceback (most recent call last)",
      "\u001b[1;32m<ipython-input-32-e05669d74f05>\u001b[0m in \u001b[0;36m<module>\u001b[1;34m\u001b[0m\n\u001b[0;32m      1\u001b[0m \u001b[0mplt\u001b[0m\u001b[1;33m.\u001b[0m\u001b[0mfigure\u001b[0m\u001b[1;33m(\u001b[0m\u001b[0mfigsize\u001b[0m\u001b[1;33m=\u001b[0m\u001b[1;33m(\u001b[0m\u001b[1;36m10\u001b[0m\u001b[1;33m,\u001b[0m\u001b[1;36m10\u001b[0m\u001b[1;33m)\u001b[0m\u001b[1;33m)\u001b[0m\u001b[1;33m\u001b[0m\u001b[1;33m\u001b[0m\u001b[0m\n\u001b[1;32m----> 2\u001b[1;33m \u001b[0mplt\u001b[0m\u001b[1;33m.\u001b[0m\u001b[0mscatter\u001b[0m\u001b[1;33m(\u001b[0m\u001b[0mfinal_dataset\u001b[0m\u001b[1;33m[\u001b[0m\u001b[1;36m1\u001b[0m\u001b[1;33m]\u001b[0m\u001b[1;33m,\u001b[0m\u001b[0mfinal_dataset\u001b[0m\u001b[1;33m[\u001b[0m\u001b[1;36m2\u001b[0m\u001b[1;33m]\u001b[0m\u001b[1;33m,\u001b[0m\u001b[0mfinal_dataset\u001b[0m\u001b[1;33m[\u001b[0m\u001b[1;36m3\u001b[0m\u001b[1;33m]\u001b[0m\u001b[1;33m,\u001b[0m\u001b[0mfinal_dataset\u001b[0m\u001b[1;33m[\u001b[0m\u001b[1;36m4\u001b[0m\u001b[1;33m]\u001b[0m\u001b[1;33m,\u001b[0m\u001b[0mfinal_dataset\u001b[0m\u001b[1;33m[\u001b[0m\u001b[1;36m5\u001b[0m\u001b[1;33m]\u001b[0m\u001b[1;33m,\u001b[0m\u001b[0mfinal_dataset\u001b[0m\u001b[1;33m[\u001b[0m\u001b[1;36m6\u001b[0m\u001b[1;33m]\u001b[0m\u001b[1;33m,\u001b[0m\u001b[0mfinal_dataset\u001b[0m\u001b[1;33m[\u001b[0m\u001b[1;36m7\u001b[0m\u001b[1;33m]\u001b[0m\u001b[1;33m,\u001b[0m\u001b[0mfinal_dataset\u001b[0m\u001b[1;33m[\u001b[0m\u001b[1;36m8\u001b[0m\u001b[1;33m]\u001b[0m\u001b[1;33m,\u001b[0m\u001b[0mfinal_dataset\u001b[0m\u001b[1;33m[\u001b[0m\u001b[1;36m9\u001b[0m\u001b[1;33m]\u001b[0m\u001b[1;33m,\u001b[0m\u001b[0mfinal_dataset\u001b[0m\u001b[1;33m[\u001b[0m\u001b[1;36m10\u001b[0m\u001b[1;33m]\u001b[0m\u001b[1;33m,\u001b[0m\u001b[0mfinal_dataset\u001b[0m\u001b[1;33m[\u001b[0m\u001b[1;36m11\u001b[0m\u001b[1;33m]\u001b[0m\u001b[1;33m,\u001b[0m\u001b[0mfinal_dataset\u001b[0m\u001b[1;33m[\u001b[0m\u001b[1;36m12\u001b[0m\u001b[1;33m]\u001b[0m\u001b[1;33m,\u001b[0m\u001b[0mfinal_dataset\u001b[0m\u001b[1;33m[\u001b[0m\u001b[1;36m13\u001b[0m\u001b[1;33m]\u001b[0m\u001b[1;33m,\u001b[0m\u001b[0ms\u001b[0m\u001b[1;33m=\u001b[0m\u001b[1;36m15\u001b[0m\u001b[1;33m,\u001b[0m\u001b[0mcolor\u001b[0m\u001b[1;33m=\u001b[0m\u001b[1;34m'grey'\u001b[0m\u001b[1;33m)\u001b[0m\u001b[1;33m\u001b[0m\u001b[1;33m\u001b[0m\u001b[0m\n\u001b[0m\u001b[0;32m      3\u001b[0m \u001b[0mplt\u001b[0m\u001b[1;33m.\u001b[0m\u001b[0mtitle\u001b[0m\u001b[1;33m(\u001b[0m\u001b[1;34m'Dataset'\u001b[0m\u001b[1;33m,\u001b[0m\u001b[0mfontsize\u001b[0m\u001b[1;33m=\u001b[0m\u001b[1;36m20\u001b[0m\u001b[1;33m)\u001b[0m\u001b[1;33m\u001b[0m\u001b[1;33m\u001b[0m\u001b[0m\n\u001b[0;32m      4\u001b[0m \u001b[1;31m#plt.xlabel('Feature 1',fontsize=14)\u001b[0m\u001b[1;33m\u001b[0m\u001b[1;33m\u001b[0m\u001b[1;33m\u001b[0m\u001b[0m\n\u001b[0;32m      5\u001b[0m \u001b[1;31m#plt.ylabel('Feature 2',fontsize=14)\u001b[0m\u001b[1;33m\u001b[0m\u001b[1;33m\u001b[0m\u001b[1;33m\u001b[0m\u001b[0m\n",
      "\u001b[1;32m~\\Anaconda3\\lib\\site-packages\\pandas\\core\\frame.py\u001b[0m in \u001b[0;36m__getitem__\u001b[1;34m(self, key)\u001b[0m\n\u001b[0;32m   2978\u001b[0m             \u001b[1;32mif\u001b[0m \u001b[0mself\u001b[0m\u001b[1;33m.\u001b[0m\u001b[0mcolumns\u001b[0m\u001b[1;33m.\u001b[0m\u001b[0mnlevels\u001b[0m \u001b[1;33m>\u001b[0m \u001b[1;36m1\u001b[0m\u001b[1;33m:\u001b[0m\u001b[1;33m\u001b[0m\u001b[1;33m\u001b[0m\u001b[0m\n\u001b[0;32m   2979\u001b[0m                 \u001b[1;32mreturn\u001b[0m \u001b[0mself\u001b[0m\u001b[1;33m.\u001b[0m\u001b[0m_getitem_multilevel\u001b[0m\u001b[1;33m(\u001b[0m\u001b[0mkey\u001b[0m\u001b[1;33m)\u001b[0m\u001b[1;33m\u001b[0m\u001b[1;33m\u001b[0m\u001b[0m\n\u001b[1;32m-> 2980\u001b[1;33m             \u001b[0mindexer\u001b[0m \u001b[1;33m=\u001b[0m \u001b[0mself\u001b[0m\u001b[1;33m.\u001b[0m\u001b[0mcolumns\u001b[0m\u001b[1;33m.\u001b[0m\u001b[0mget_loc\u001b[0m\u001b[1;33m(\u001b[0m\u001b[0mkey\u001b[0m\u001b[1;33m)\u001b[0m\u001b[1;33m\u001b[0m\u001b[1;33m\u001b[0m\u001b[0m\n\u001b[0m\u001b[0;32m   2981\u001b[0m             \u001b[1;32mif\u001b[0m \u001b[0mis_integer\u001b[0m\u001b[1;33m(\u001b[0m\u001b[0mindexer\u001b[0m\u001b[1;33m)\u001b[0m\u001b[1;33m:\u001b[0m\u001b[1;33m\u001b[0m\u001b[1;33m\u001b[0m\u001b[0m\n\u001b[0;32m   2982\u001b[0m                 \u001b[0mindexer\u001b[0m \u001b[1;33m=\u001b[0m \u001b[1;33m[\u001b[0m\u001b[0mindexer\u001b[0m\u001b[1;33m]\u001b[0m\u001b[1;33m\u001b[0m\u001b[1;33m\u001b[0m\u001b[0m\n",
      "\u001b[1;32m~\\Anaconda3\\lib\\site-packages\\pandas\\core\\indexes\\base.py\u001b[0m in \u001b[0;36mget_loc\u001b[1;34m(self, key, method, tolerance)\u001b[0m\n\u001b[0;32m   2897\u001b[0m                 \u001b[1;32mreturn\u001b[0m \u001b[0mself\u001b[0m\u001b[1;33m.\u001b[0m\u001b[0m_engine\u001b[0m\u001b[1;33m.\u001b[0m\u001b[0mget_loc\u001b[0m\u001b[1;33m(\u001b[0m\u001b[0mkey\u001b[0m\u001b[1;33m)\u001b[0m\u001b[1;33m\u001b[0m\u001b[1;33m\u001b[0m\u001b[0m\n\u001b[0;32m   2898\u001b[0m             \u001b[1;32mexcept\u001b[0m \u001b[0mKeyError\u001b[0m\u001b[1;33m:\u001b[0m\u001b[1;33m\u001b[0m\u001b[1;33m\u001b[0m\u001b[0m\n\u001b[1;32m-> 2899\u001b[1;33m                 \u001b[1;32mreturn\u001b[0m \u001b[0mself\u001b[0m\u001b[1;33m.\u001b[0m\u001b[0m_engine\u001b[0m\u001b[1;33m.\u001b[0m\u001b[0mget_loc\u001b[0m\u001b[1;33m(\u001b[0m\u001b[0mself\u001b[0m\u001b[1;33m.\u001b[0m\u001b[0m_maybe_cast_indexer\u001b[0m\u001b[1;33m(\u001b[0m\u001b[0mkey\u001b[0m\u001b[1;33m)\u001b[0m\u001b[1;33m)\u001b[0m\u001b[1;33m\u001b[0m\u001b[1;33m\u001b[0m\u001b[0m\n\u001b[0m\u001b[0;32m   2900\u001b[0m         \u001b[0mindexer\u001b[0m \u001b[1;33m=\u001b[0m \u001b[0mself\u001b[0m\u001b[1;33m.\u001b[0m\u001b[0mget_indexer\u001b[0m\u001b[1;33m(\u001b[0m\u001b[1;33m[\u001b[0m\u001b[0mkey\u001b[0m\u001b[1;33m]\u001b[0m\u001b[1;33m,\u001b[0m \u001b[0mmethod\u001b[0m\u001b[1;33m=\u001b[0m\u001b[0mmethod\u001b[0m\u001b[1;33m,\u001b[0m \u001b[0mtolerance\u001b[0m\u001b[1;33m=\u001b[0m\u001b[0mtolerance\u001b[0m\u001b[1;33m)\u001b[0m\u001b[1;33m\u001b[0m\u001b[1;33m\u001b[0m\u001b[0m\n\u001b[0;32m   2901\u001b[0m         \u001b[1;32mif\u001b[0m \u001b[0mindexer\u001b[0m\u001b[1;33m.\u001b[0m\u001b[0mndim\u001b[0m \u001b[1;33m>\u001b[0m \u001b[1;36m1\u001b[0m \u001b[1;32mor\u001b[0m \u001b[0mindexer\u001b[0m\u001b[1;33m.\u001b[0m\u001b[0msize\u001b[0m \u001b[1;33m>\u001b[0m \u001b[1;36m1\u001b[0m\u001b[1;33m:\u001b[0m\u001b[1;33m\u001b[0m\u001b[1;33m\u001b[0m\u001b[0m\n",
      "\u001b[1;32mpandas\\_libs\\index.pyx\u001b[0m in \u001b[0;36mpandas._libs.index.IndexEngine.get_loc\u001b[1;34m()\u001b[0m\n",
      "\u001b[1;32mpandas\\_libs\\index.pyx\u001b[0m in \u001b[0;36mpandas._libs.index.IndexEngine.get_loc\u001b[1;34m()\u001b[0m\n",
      "\u001b[1;32mpandas\\_libs\\hashtable_class_helper.pxi\u001b[0m in \u001b[0;36mpandas._libs.hashtable.PyObjectHashTable.get_item\u001b[1;34m()\u001b[0m\n",
      "\u001b[1;32mpandas\\_libs\\hashtable_class_helper.pxi\u001b[0m in \u001b[0;36mpandas._libs.hashtable.PyObjectHashTable.get_item\u001b[1;34m()\u001b[0m\n",
      "\u001b[1;31mKeyError\u001b[0m: 1"
     ]
    },
    {
     "data": {
      "text/plain": [
       "<Figure size 720x720 with 0 Axes>"
      ]
     },
     "metadata": {},
     "output_type": "display_data"
    }
   ],
   "source": [
    "plt.figure(figsize=(10,10))\n",
    "plt.scatter(final_dataset[1],final_dataset[2],final_dataset[3],final_dataset[4],final_dataset[5],final_dataset[6],final_dataset[7],final_dataset[8],final_dataset[9],final_dataset[10],final_dataset[11],final_dataset[12],final_dataset[13],s=15,color='grey')\n",
    "plt.title('Dataset',fontsize=20)\n",
    "#plt.xlabel('Feature 1',fontsize=14)\n",
    "#plt.ylabel('Feature 2',fontsize=14)\n",
    "plt.show()"
   ]
  },
  {
   "cell_type": "code",
   "execution_count": null,
   "metadata": {},
   "outputs": [],
   "source": []
  }
 ],
 "metadata": {
  "kernelspec": {
   "display_name": "Python 3",
   "language": "python",
   "name": "python3"
  },
  "language_info": {
   "codemirror_mode": {
    "name": "ipython",
    "version": 3
   },
   "file_extension": ".py",
   "mimetype": "text/x-python",
   "name": "python",
   "nbconvert_exporter": "python",
   "pygments_lexer": "ipython3",
   "version": "3.7.4"
  }
 },
 "nbformat": 4,
 "nbformat_minor": 2
}
